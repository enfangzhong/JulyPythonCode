{
 "cells": [
  {
   "cell_type": "markdown",
   "metadata": {},
   "source": [
    "# Python基本入门升级版\n",
    "## (二)、容器及使用\n",
    "\n",
    "### 七月在线 julyedu.com\n",
    "David "
   ]
  },
  {
   "cell_type": "markdown",
   "metadata": {},
   "source": [
    "## Python中的序列\n",
    "### 序列对象：str，list ， tuple"
   ]
  },
  {
   "cell_type": "code",
   "execution_count": 14,
   "metadata": {},
   "outputs": [
    {
     "name": "stdout",
     "output_type": "stream",
     "text": [
      "True\n",
      "False\n"
     ]
    },
    {
     "data": {
      "text/plain": [
       "['国内领先的人工智能平台', 'AI']"
      ]
     },
     "execution_count": 14,
     "metadata": {},
     "output_type": "execute_result"
    }
   ],
   "source": [
    "#初始化\n",
    "s1='julyedu.com '\n",
    "l1=['julyedu','AI教育']\n",
    "l2=['.com','平台']\n",
    "l3=[5,12,6,3,8,9]\n",
    "l4=['tensorflow','sklearn','']\n",
    "l5=['','','','']\n",
    "t1=('julyedu',['国内领先的人工智能平台','AI'])\n",
    "\n",
    "#标准操作 \n",
    "#成员操作\n",
    "print('julyedu' in t1)\n",
    "print('com' not in s1)\n",
    "\n",
    "#连接与重复(共类型之间)\n",
    "s1*10\n",
    "s1+s1\n",
    "l1*5\n",
    "\n",
    "#索引访问\n",
    "s1[0]\n",
    "l1[0]\n",
    "t1[1]\n",
    "\n",
    "#切片访问\n",
    "s1[0:-1:3]\n",
    "t1[0:-1]\n",
    "\n",
    "#其它操作\n",
    "len(t1)\n",
    "len(s1)\n",
    "list(reversed(t1))\n",
    "sorted(s1)\n",
    "sorted(l1)\n",
    "sorted(l3)\n",
    "max(l3);min(l3);sum(l3)\n",
    "max(l1)\n",
    "\n",
    "#枚举\n",
    "for _,item in enumerate(l1):\n",
    "    print(_,item)\n",
    "\n",
    "\n",
    "#序列拼接\n",
    "list(zip(l1,t1))\n",
    "list(zip(l1,l2))\n",
    "\n",
    "#any判断对象是否为空对象，如果都为空、0、false，则返回false，如果不都为空、0、false，则返回true\n",
    "any(l4)#l4中有空元素，但也有不为空的元素\n",
    "any(l5)#l5中的元素全部为空，0或者false,any返回的就是false\n",
    "\n",
    "#all判断对象中的所有元素不为0、''、False或者x为空对象，则返回True，否则返回False\n",
    "all(l4)#l4中有一个空元素，则返回False\n",
    "all(l3)#l5中的元素全部为空，0或者false,any返回的就是false\n",
    "\n",
    "\n",
    "#类型转换\n",
    "type(list(t1))\n",
    "type(str(l1))\n",
    "type(tuple(s1))"
   ]
  },
  {
   "cell_type": "markdown",
   "metadata": {},
   "source": [
    "## 列表List"
   ]
  },
  {
   "cell_type": "code",
   "execution_count": 1,
   "metadata": {},
   "outputs": [
    {
     "data": {
      "text/plain": [
       "True"
      ]
     },
     "execution_count": 1,
     "metadata": {},
     "output_type": "execute_result"
    }
   ],
   "source": [
    "#初始化\n",
    "l1=['julyedu.com','AI','tensorflow','','sklearn','AI']\n",
    "l2=list(range(1,6))\n",
    "l3=list(range(1,18,2))\n",
    "\n",
    "\n",
    "#列表属性\n",
    "len(l1)#列表长度\n",
    "\n",
    "#成员操作\n",
    "'AI' in l1\n",
    "'tensor' not in l1\n",
    "\n",
    "#列表访问,索引与切片\n",
    "l1[2]\n",
    "l1[0:-1:2]\n",
    "\n",
    "#列表内部操作\n",
    "l1[3]='Caffe'#赋值\n",
    "l1.append(l2)#添加到未尾,如果元素是列表，也是按照列表添加进来\n",
    "l1.extend(['Torch'])#扩展，如果是扩展元素是列表，是只添加列表内的元素\n",
    "l1.insert(0,'sklearn')#插入元素，按索引\n",
    "l1.index('sklearn')#获得指定元素的索引位置，如果存在相同元素，返回的是从右到左第一个的索引位置\n",
    "l1.count('AI')#统计元素出现的次数\n",
    "l1.pop()#返回并弹出\n",
    "l1.pop(3)#返回并弹出指定索引位置的元素\n",
    "\n",
    "del l1[-1] #删除列表元素，按索引位置删除\n",
    "l1.remove('AI')#指定元素进行删除，如果存在相同元素，则删除从左至右第一个元素\n",
    "l1\n",
    "\n",
    "#列表操作\n",
    "reversed(l1)\n",
    "sorted(l1)\n",
    "\n",
    "l2<l3#列表比较，逐元素进行对比"
   ]
  },
  {
   "cell_type": "markdown",
   "metadata": {},
   "source": [
    "## 列表推导式"
   ]
  },
  {
   "cell_type": "code",
   "execution_count": 5,
   "metadata": {},
   "outputs": [
    {
     "data": {
      "text/plain": [
       "[(0, 0),\n",
       " (0, 1),\n",
       " (0, 2),\n",
       " (0, 3),\n",
       " (0, 4),\n",
       " (1, 0),\n",
       " (1, 1),\n",
       " (1, 2),\n",
       " (1, 3),\n",
       " (1, 4),\n",
       " (2, 0),\n",
       " (2, 1),\n",
       " (2, 2),\n",
       " (2, 3),\n",
       " (2, 4),\n",
       " (3, 0),\n",
       " (3, 1),\n",
       " (3, 2),\n",
       " (3, 3),\n",
       " (3, 4),\n",
       " (4, 0),\n",
       " (4, 1),\n",
       " (4, 2),\n",
       " (4, 3),\n",
       " (4, 4)]"
      ]
     },
     "execution_count": 5,
     "metadata": {},
     "output_type": "execute_result"
    }
   ],
   "source": [
    "l1=list(range(300))\n",
    "\n",
    "[x for x in l1 if x>=288]\n",
    "\n",
    "\n",
    "\n",
    "#从一个列表中\n",
    "[i for i in range(9) if i%2==0]\n",
    "\n",
    "#从两个列表中进行推导\n",
    "[(i,j) for i in range(5) for j in range(5)]"
   ]
  },
  {
   "cell_type": "markdown",
   "metadata": {},
   "source": [
    "## 元组Tuple"
   ]
  },
  {
   "cell_type": "code",
   "execution_count": 6,
   "metadata": {},
   "outputs": [
    {
     "ename": "TypeError",
     "evalue": "can only concatenate tuple (not \"int\") to tuple",
     "output_type": "error",
     "traceback": [
      "\u001b[1;31m---------------------------------------------------------------------------\u001b[0m",
      "\u001b[1;31mTypeError\u001b[0m                                 Traceback (most recent call last)",
      "\u001b[1;32m<ipython-input-6-e98997c3d415>\u001b[0m in \u001b[0;36m<module>\u001b[1;34m()\u001b[0m\n\u001b[0;32m      3\u001b[0m \u001b[1;31m#tuple成员操作\u001b[0m\u001b[1;33m\u001b[0m\u001b[1;33m\u001b[0m\u001b[0m\n\u001b[0;32m      4\u001b[0m \u001b[0mt1\u001b[0m\u001b[1;33m=\u001b[0m\u001b[1;33m(\u001b[0m\u001b[1;36m5\u001b[0m\u001b[1;33m,\u001b[0m\u001b[1;36m6\u001b[0m\u001b[1;33m,\u001b[0m\u001b[1;36m7\u001b[0m\u001b[1;33m)\u001b[0m\u001b[1;33m\u001b[0m\u001b[0m\n\u001b[1;32m----> 5\u001b[1;33m \u001b[0mt1\u001b[0m\u001b[1;33m+\u001b[0m\u001b[1;36m4\u001b[0m\u001b[1;31m#这里为什么会报错\u001b[0m\u001b[1;33m\u001b[0m\u001b[0m\n\u001b[0m\u001b[0;32m      6\u001b[0m \u001b[1;33m\u001b[0m\u001b[0m\n\u001b[0;32m      7\u001b[0m \u001b[0mt1\u001b[0m\u001b[1;33m+\u001b[0m\u001b[1;33m(\u001b[0m\u001b[1;36m4\u001b[0m\u001b[1;33m,\u001b[0m\u001b[1;33m)\u001b[0m\u001b[1;31m#这里为什么会成功\u001b[0m\u001b[1;33m\u001b[0m\u001b[0m\n",
      "\u001b[1;31mTypeError\u001b[0m: can only concatenate tuple (not \"int\") to tuple"
     ]
    }
   ],
   "source": [
    "#可以认为是一个只读列表\n",
    "\n",
    "#tuple成员操作\n",
    "t1=(5,6,7)\n",
    "t1+4#这里为什么会报错\n",
    "\n",
    "t1+(4,)#这里为什么会成功\n",
    "\n",
    "#通常我们在命令行输入4,5,6返回的是一个tuple\n",
    "#而只输入4时，返回的是一个数值型\n",
    "\n",
    "\n",
    "#解包unpack\n",
    "a,b,c,d=t1\n",
    "\n",
    "\n",
    "#tuple不可修改的是什么？\n",
    "t1=(1,2,3,[4,5,6])\n",
    "#t1[0]=0#报错\n",
    "#'tuple' object does not support item assignment\n",
    "#这里的tuple object指的是tuple中的元素\n",
    "\n",
    "#列表可以\n",
    "print('t1 id:',id(t1))\n",
    "print('t1[-1] id：',id(t1[-1]))\n",
    "\n",
    "t1[-1].append(7)\n",
    "print(t1)\n",
    "print('t1[-1] id：',id(t1[-1]))\n",
    "\n",
    "\n",
    "#对元素中字典元素进行修改\n",
    "t1=(1,'a',{'name':'AI'})\n",
    "t1[-1]['name']='Julyedu.com'\n",
    "t1\n",
    "\n"
   ]
  },
  {
   "cell_type": "markdown",
   "metadata": {},
   "source": [
    "## 集合Set"
   ]
  },
  {
   "cell_type": "code",
   "execution_count": 123,
   "metadata": {
    "scrolled": true
   },
   "outputs": [
    {
     "data": {
      "text/plain": [
       "{'a', 'b'}"
      ]
     },
     "execution_count": 123,
     "metadata": {},
     "output_type": "execute_result"
    }
   ],
   "source": [
    "l1=['julyedu','julyedu.com','julyedu','AI']\n",
    "\n",
    "#初始化\n",
    "a=set(l1)\n",
    "\n",
    "# s1[0]#'set' object does not support indexing\n",
    "\n",
    "#成员操作\n",
    "'AI' in a\n",
    "'Caffe' not in b\n",
    "\n",
    "#集合内部操作\n",
    "a.add('f')#添加key\n",
    "a.remove('AI')\n",
    "\n",
    "\n",
    "#集合间操作\n",
    "a=set('abcde')\n",
    "b=set('cdefg')\n",
    "\n",
    "# &交集\n",
    "a&b\n",
    "# 结果：{'c', 'd', 'e'}\n",
    "\n",
    "# |并集\n",
    "a|b\n",
    "# 结果：{'a', 'b', 'c', 'd', 'e', 'f', 'g'}\n",
    "\n",
    "# -差集\n",
    "a-b\n",
    "# 结果：{'a', 'b'}\n",
    "\n",
    "\n",
    "#合并\n",
    "a.update(b)#集合合并"
   ]
  },
  {
   "cell_type": "markdown",
   "metadata": {},
   "source": [
    "## 字典Dictionary"
   ]
  },
  {
   "cell_type": "code",
   "execution_count": 7,
   "metadata": {},
   "outputs": [
    {
     "data": {
      "text/plain": [
       "-9108383360718262103"
      ]
     },
     "execution_count": 7,
     "metadata": {},
     "output_type": "execute_result"
    }
   ],
   "source": [
    "#K:V对应\n",
    "\n",
    "#初始化\n",
    "d1={'name':'jack','age':24}\n",
    "d2=dict({'salary':9999,'level':5})\n",
    "\n",
    "#成员判断(针对 key)\n",
    "'name' in d1\n",
    "'address' in d1\n",
    "\n",
    "\n",
    "#新增成员\n",
    "d1['address']='beijing'\n",
    "\n",
    "#访问：按key访问value：\n",
    "d1['name']\n",
    "d1.get('name',-1)\n",
    "#访问所有key\n",
    "d1.keys()\n",
    "#访问所有value\n",
    "d1.values()\n",
    "#访问所有元素\n",
    "d1.items()\n",
    "\n",
    "\n",
    "#删除成员\n",
    "d1.pop('address')#返回指定key的值。并弹出元素\n",
    "d1.popitem()#r返回整个元素。并弹出\n",
    "\n",
    "#清空\n",
    "d1.clear()\n",
    "\n",
    "\n",
    "#Key值的选取，能被hash的值都可以做为key，即不可变类型可以做为key值。\n",
    "hash('a')"
   ]
  },
  {
   "cell_type": "markdown",
   "metadata": {},
   "source": [
    "## Python内存管理"
   ]
  },
  {
   "cell_type": "code",
   "execution_count": 30,
   "metadata": {},
   "outputs": [
    {
     "name": "stdout",
     "output_type": "stream",
     "text": [
      "julyedu\n",
      "AI\n",
      "2\n",
      "3\n"
     ]
    }
   ],
   "source": [
    "#引用的概念\n",
    "\n",
    "a='julyedu'#python在内存中创建了一个字符串，然后创建了a这个变量去指向这个字符串\n",
    "b=a#创建了一个变量b，并把它引向变量a指向的字符串julyedu\n",
    "\n",
    "a='AI'#这时在内存中创建了一个字符串AI，并把变量a的指向重新指向AI这个字符串\n",
    "print(b)#b的指向并没有变，还是julyedu\n",
    "# print('a id==b id',id(a)==id(b))\n",
    "\n",
    "c=a#再创建一个变量c，指向a所指向的字符串AI\n",
    "del a#删除的是b这个引用，而非AI这个字符串,所以c这个变量指向的还是AI这个字符串\n",
    "print(c)\n",
    "\n",
    "del c#这时AI字符串的最后一个引用c也被删除了,我们就无法再去访问AI这个字符串了\n",
    "\n",
    "\n",
    "\n",
    "#在Python中，每个对象都有存有指向该对象的引用总数，即引用计数(reference count)。\n",
    "#我们可以使用sys包中的getrefcount()，来查看某个对象的引用计数。\n",
    "#需要注意的是，当使用某个引用作为参数，传递给getrefcount()时，参数实际上创建了一个临时的引用。\n",
    "#因此，getrefcount()所得到的结果，会比期望的多1。\n",
    "\n",
    "from sys import getrefcount\n",
    "a = [1, 2, 3]\n",
    "print(getrefcount(a))\n",
    "\n",
    "b = a\n",
    "print(getrefcount(b))"
   ]
  },
  {
   "cell_type": "markdown",
   "metadata": {},
   "source": [
    "## 可变与不可变对象"
   ]
  },
  {
   "cell_type": "code",
   "execution_count": 5,
   "metadata": {},
   "outputs": [
    {
     "name": "stdout",
     "output_type": "stream",
     "text": [
      "5\n",
      "[1, 2, 3] [1, 2, 3] [1, 2, 3]\n",
      "[1, 2, 3, 4] [1, 2, 3, 4] [1, 2, 3, 4]\n",
      "id(a): 2246883863600 id(b): 2246883876232 id(c): 2246883876232\n",
      "shanghai beijing beijing\n",
      "False\n",
      "True\n"
     ]
    }
   ],
   "source": [
    "#知识点：引用与对象分离\n",
    "\n",
    "a=b=c=5#创建了三个变量，均指向一个int类型的对象5，一个对象可以被多个引用指向\n",
    "del c#删除c这个变量对5的引用\n",
    "a=[1,2,3]#把a这个变量的指向，重新指向了一个列表对象，引用可以随时指向一个新的对象\n",
    "print(b)#b依旧指向5，5没有被改变\n",
    "\n",
    "\n",
    "#什么是可变对象？\n",
    "a=b=c=[1,2,3]\n",
    "print(a,b,c)\n",
    "a.append(4)#通过a能真正改变列表[1,2,3],\n",
    "print(a,b,c)\n",
    "#通过引用其元素，改变对象自身\n",
    "\n",
    "\n",
    "#什么是不可变对象？\n",
    "a=b=c='beijing'\n",
    "a='shanghai'\n",
    "#打印a,b,c,d指向对象的id，看看是否是一个家伙\n",
    "print('id(a):',id(a),'id(b):',id(b),'id(c):',id(c))\n",
    "#看似是把a变量指向的字符串从beijing，改为shanghai,但其它并没有改变beijing，只是a的指向被改变了\n",
    "print(a,b,c)\n",
    "#不能改变对象本身，只能改变引用的指向\n",
    "\n",
    "\n"
   ]
  },
  {
   "cell_type": "markdown",
   "metadata": {
    "collapsed": true
   },
   "source": [
    "## 练习\n",
    "### 七月在线 julyedu.com"
   ]
  },
  {
   "cell_type": "markdown",
   "metadata": {},
   "source": [
    "- 使用列表推导式找出单词长度大于n的单词"
   ]
  },
  {
   "cell_type": "markdown",
   "metadata": {
    "collapsed": true
   },
   "source": [
    "- 使用列表推导式寻找两个列表中的相同元素"
   ]
  },
  {
   "cell_type": "markdown",
   "metadata": {
    "collapsed": true
   },
   "source": [
    "- 去除一个列表中相领且重复的元素。\n"
   ]
  },
  {
   "cell_type": "markdown",
   "metadata": {
    "collapsed": true
   },
   "source": [
    "用户名密码对应\n",
    "- 给定两个列表，一个存放用户名，一个存放密码。请将用户名和密码按顺序进行对应为一个元素。"
   ]
  },
  {
   "cell_type": "markdown",
   "metadata": {
    "collapsed": true
   },
   "source": [
    "使用列表推导式计算笛卡尔积（组合）\n"
   ]
  },
  {
   "cell_type": "markdown",
   "metadata": {},
   "source": [
    "词频统计\n",
    "- 利用dict统计词频\n",
    "- 对每个参数进行判断，若在则对应的value+1\n",
    "- 否则根据该字符创建一个key并且value设置为1\n",
    "- 最后输出该词典"
   ]
  },
  {
   "cell_type": "markdown",
   "metadata": {},
   "source": [
    "- 实现行列互转"
   ]
  },
  {
   "cell_type": "markdown",
   "metadata": {},
   "source": [
    "- fib数列[数组实现]\n"
   ]
  },
  {
   "cell_type": "markdown",
   "metadata": {},
   "source": [
    "### 作业\n",
    "输入含有[]的字符串，输出对中括号出现规则的检测结果"
   ]
  },
  {
   "cell_type": "code",
   "execution_count": 43,
   "metadata": {
    "collapsed": true
   },
   "outputs": [],
   "source": [
    "# []        OK   ][        NOT OK\n",
    "\n",
    "# [][]      OK   ][][      NOT OK\n",
    "\n",
    "# [[][]]    OK   []][[]    NOT OK\n",
    "\n",
    "# [[][[]]]  OK   ][]][[][  NOT OK"
   ]
  }
 ],
 "metadata": {
  "kernelspec": {
   "display_name": "Python 3",
   "language": "python",
   "name": "python3"
  },
  "language_info": {
   "codemirror_mode": {
    "name": "ipython",
    "version": 3
   },
   "file_extension": ".py",
   "mimetype": "text/x-python",
   "name": "python",
   "nbconvert_exporter": "python",
   "pygments_lexer": "ipython3",
   "version": "3.6.1"
  }
 },
 "nbformat": 4,
 "nbformat_minor": 2
}
