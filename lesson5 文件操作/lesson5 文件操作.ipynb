{
 "cells": [
  {
   "cell_type": "code",
   "execution_count": null,
   "metadata": {
    "collapsed": true
   },
   "outputs": [],
   "source": [
    "# 文本文件读写"
   ]
  },
  {
   "cell_type": "code",
   "execution_count": 2,
   "metadata": {
    "collapsed": false
   },
   "outputs": [
    {
     "name": "stdout",
     "output_type": "stream",
     "text": [
      "Line #1 hello world\n",
      "Line #2 life is not easy\n"
     ]
    }
   ],
   "source": [
    "f = open('sample.txt', 'r') #  r = read, w = write, a = append, b = binary, +表示文件不存在就创建\n",
    "texts = f.read()\n",
    "print(texts)\n",
    "f.close()"
   ]
  },
  {
   "cell_type": "code",
   "execution_count": 4,
   "metadata": {
    "collapsed": false
   },
   "outputs": [
    {
     "name": "stdout",
     "output_type": "stream",
     "text": [
      "Line #1 hello world\n",
      "Line #2 life is not easy\n"
     ]
    }
   ],
   "source": [
    "with open('sample.txt', 'r') as f:\n",
    "    line = f.readline()\n",
    "    while line:\n",
    "        print(line.strip())\n",
    "        line = f.readline()"
   ]
  },
  {
   "cell_type": "code",
   "execution_count": 5,
   "metadata": {
    "collapsed": false
   },
   "outputs": [
    {
     "name": "stdout",
     "output_type": "stream",
     "text": [
      "Line #1 hello world\n",
      "Line #2 life is not easy\n"
     ]
    }
   ],
   "source": [
    "with open('sample.txt', 'r') as f:\n",
    "    for line in f.readlines():\n",
    "        print(line.strip())"
   ]
  },
  {
   "cell_type": "code",
   "execution_count": 6,
   "metadata": {
    "collapsed": false
   },
   "outputs": [
    {
     "name": "stdout",
     "output_type": "stream",
     "text": [
      "Line #1 hello world\n",
      "Line #2 life is not easy\n"
     ]
    }
   ],
   "source": [
    "# 实现readlines生成器\n",
    "def readlines(f):\n",
    "    line = f.readline()\n",
    "    while line:\n",
    "        yield line\n",
    "        line = f.readline()\n",
    "    \n",
    "with open('sample.txt', 'r') as f:\n",
    "    for line in readlines(f):\n",
    "        print(line.strip())"
   ]
  },
  {
   "cell_type": "code",
   "execution_count": 8,
   "metadata": {
    "collapsed": true
   },
   "outputs": [],
   "source": [
    "texts = ['New line #1 hello world', 'Line #2 life is not easy']\n",
    "with open('new_sample.txt', 'w') as f:\n",
    "    for text in texts:\n",
    "        f.write(text + '\\n')\n",
    "with open('new_sample.txt', 'a') as f:\n",
    "    f.write('Something new\\n')"
   ]
  },
  {
   "cell_type": "code",
   "execution_count": 13,
   "metadata": {
    "collapsed": false
   },
   "outputs": [
    {
     "name": "stdout",
     "output_type": "stream",
     "text": [
      "<class 'dict'>\n",
      "{'ip': '192.168.1.1', 'port': ['9100', '9101', '9102']}\n",
      "{'ip': '192.168.1.1', 'port': ['9100', '9101', '9102']}\n",
      "<class 'str'>\n",
      "{\"ip\": \"192.168.1.1\", \"port\": [\"9100\", \"9101\", \"9102\"]}\n"
     ]
    }
   ],
   "source": [
    "# json\n",
    "import json\n",
    "config = {'ip': '192.168.1.1', 'port': ['9100', '9101', '9102']}\n",
    "with open('config.json', 'w+') as f:\n",
    "    json.dump(config, f) # dump把字典写入json文件\n",
    "with open('config.json', 'r') as f:\n",
    "    new_config = json.load(f)\n",
    "print(type(new_config))\n",
    "print(new_config)\n",
    "config_str = '{\"ip\": \"192.168.1.1\", \"port\": [\"9100\", \"9101\", \"9102\"]}'\n",
    "config = json.loads(config_str)\n",
    "print(config)\n",
    "new_config_str = json.dumps(config)\n",
    "print(type(new_config_str))\n",
    "print(new_config_str)"
   ]
  },
  {
   "cell_type": "code",
   "execution_count": 24,
   "metadata": {
    "collapsed": false
   },
   "outputs": [
    {
     "name": "stdout",
     "output_type": "stream",
     "text": [
      "{\n",
      "\"ip\": \"192.168.1.1\",\n",
      "\"port\": [\"9100\", \"9101\", \"9102\"]\n",
      "}\n"
     ]
    }
   ],
   "source": [
    "#  模拟dumps的实现\n",
    "def json_dumps(di): # 回去自己实现带嵌套的情况\n",
    "    s = '{\\n'\n",
    "    lines = []\n",
    "    for k, v in di.items():\n",
    "        _s = '\"' + k + '\": '\n",
    "        if type(v) != list:\n",
    "            _s += '\"' + str(v) + '\"'\n",
    "        else:\n",
    "            items = ['\"' + i + '\"' for i in v]\n",
    "            _s += '[' + ', '.join(items) + ']'\n",
    "        lines.append(_s)\n",
    "    s += ',\\n'.join(lines)\n",
    "    s += '\\n}'\n",
    "    return s\n",
    "        \n",
    "\n",
    "config = {'ip': '192.168.1.1', 'port': ['9100', '9101', '9102']}\n",
    "print(json_dumps(config))"
   ]
  },
  {
   "cell_type": "code",
   "execution_count": 2,
   "metadata": {
    "collapsed": false
   },
   "outputs": [
    {
     "name": "stdout",
     "output_type": "stream",
     "text": [
      "[{'Age': 'youth', 'Income': 'high', 'Student': 'no', 'CreditRating': 'fair'}, {'Age': 'youth', 'Income': 'high', 'Student': 'no', 'CreditRating': 'excellent'}, {'Age': 'middle', 'Income': 'high', 'Student': 'no', 'CreditRating': 'fair'}, {'Age': 'senior', 'Income': 'medium', 'Student': 'no', 'CreditRating': 'fair'}, {'Age': 'senior', 'Income': 'low', 'Student': 'yes', 'CreditRating': 'fair'}, {'Age': 'senior', 'Income': 'low', 'Student': 'yes', 'CreditRating': 'excellent'}, {'Age': 'middle', 'Income': 'low', 'Student': 'yes', 'CreditRating': 'excellent'}, {'Age': 'youth', 'Income': 'medium', 'Student': 'no', 'CreditRating': 'fair'}, {'Age': 'youth', 'Income': 'low', 'Student': 'yes', 'CreditRating': 'fair'}, {'Age': 'senior', 'Income': 'medium', 'Student': 'yes', 'CreditRating': 'fair'}, {'Age': 'youth', 'Income': 'medium', 'Student': 'yes', 'CreditRating': 'excellent'}, {'Age': 'middle', 'Income': 'medium', 'Student': 'no', 'CreditRating': 'excellent'}, {'Age': 'middle', 'Income': 'high', 'Student': 'yes', 'CreditRating': 'fair'}, {'Age': 'senior', 'Income': 'medium', 'Student': 'no', 'CreditRating': 'excellent'}]\n",
      "['no', 'no', 'yes', 'yes', 'yes', 'no', 'yes', 'no', 'yes', 'yes', 'yes', 'yes', 'yes', 'no']\n"
     ]
    }
   ],
   "source": [
    "# csv\n",
    "import csv\n",
    "\n",
    "feature_list = []\n",
    "label_list = []\n",
    "\n",
    "with open('sales.csv','r') as f:\n",
    "    reader = csv.reader(f)\n",
    "    headers = next(reader)\n",
    "    for row in reader:\n",
    "        label_list.append(row[-1])\n",
    "        row_dict = {}\n",
    "        for i in range(1, len(row) - 1):\n",
    "            row_dict[headers[i]] = row[i]\n",
    "        feature_list.append(row_dict)\n",
    "print(feature_list)\n",
    "print(label_list)"
   ]
  },
  {
   "cell_type": "code",
   "execution_count": 18,
   "metadata": {
    "collapsed": false
   },
   "outputs": [
    {
     "name": "stdout",
     "output_type": "stream",
     "text": [
      "[{'Age': 'youth', 'Income': 'high', 'Student': 'no', 'CreditRating': 'fair'}, {'Age': 'youth', 'Income': 'high', 'Student': 'no', 'CreditRating': 'excellent'}, {'Age': 'middle', 'Income': 'high', 'Student': 'no', 'CreditRating': 'fair'}, {'Age': 'senior', 'Income': 'medium', 'Student': 'no', 'CreditRating': 'fair'}, {'Age': 'senior', 'Income': 'low', 'Student': 'yes', 'CreditRating': 'fair'}, {'Age': 'senior', 'Income': 'low', 'Student': 'yes', 'CreditRating': 'excellent'}, {'Age': 'middle', 'Income': 'low', 'Student': 'yes', 'CreditRating': 'excellent'}, {'Age': 'youth', 'Income': 'medium', 'Student': 'no', 'CreditRating': 'fair'}, {'Age': 'youth', 'Income': 'low', 'Student': 'yes', 'CreditRating': 'fair'}, {'Age': 'senior', 'Income': 'medium', 'Student': 'yes', 'CreditRating': 'fair'}, {'Age': 'youth', 'Income': 'medium', 'Student': 'yes', 'CreditRating': 'excellent'}, {'Age': 'middle', 'Income': 'medium', 'Student': 'no', 'CreditRating': 'excellent'}, {'Age': 'middle', 'Income': 'high', 'Student': 'yes', 'CreditRating': 'fair'}, {'Age': 'senior', 'Income': 'medium', 'Student': 'no', 'CreditRating': 'excellent'}]\n",
      "['no', 'no', 'yes', 'yes', 'yes', 'no', 'yes', 'no', 'yes', 'yes', 'yes', 'yes', 'yes', 'no']\n"
     ]
    }
   ],
   "source": [
    "# 实现csv文件读取\n",
    "def read_csv(f): # 这个生成器可以在封装一下，做成reader = read_csv(f)\n",
    "    line = f.readline()\n",
    "    while line:\n",
    "        line = line.strip()\n",
    "        yield line.split(',')\n",
    "        line = f.readline()\n",
    "\n",
    "headers = None\n",
    "feature_list = []\n",
    "label_list = []\n",
    "with open('sales.csv','r') as f:\n",
    "    for row in read_csv(f):\n",
    "        if not headers:\n",
    "            headers = row\n",
    "        else:\n",
    "            label_list.append(row[-1])\n",
    "            row_dict = {}\n",
    "            for i in range(1, len(row) - 1):\n",
    "                row_dict[headers[i]] = row[i]\n",
    "            feature_list.append(row_dict)\n",
    "print(feature_list)\n",
    "print(label_list)"
   ]
  },
  {
   "cell_type": "code",
   "execution_count": 25,
   "metadata": {
    "collapsed": false
   },
   "outputs": [
    {
     "name": "stdout",
     "output_type": "stream",
     "text": [
      "b'\\x80\\x03c__main__\\nMyObject\\nq\\x00)\\x81q\\x01}q\\x02(X\\x01\\x00\\x00\\x00xq\\x03KdX\\x01\\x00\\x00\\x00yq\\x04K\\xc8ub.'\n",
      "100 200\n"
     ]
    }
   ],
   "source": [
    "# 序列化与反序列化\n",
    "import pickle\n",
    "\n",
    "class MyObject:\n",
    "    def __init__(self, x, y):\n",
    "        self.x = x\n",
    "        self.y = y\n",
    "\n",
    "obj = MyObject(100, 200)\n",
    "s_obj = pickle.dumps(obj)\n",
    "print(s_obj)\n",
    "obj = pickle.loads(s_obj)\n",
    "print(obj.x, obj.y)"
   ]
  },
  {
   "cell_type": "code",
   "execution_count": null,
   "metadata": {
    "collapsed": true
   },
   "outputs": [],
   "source": [
    "# 多进程与多线程\n",
    "# 进程：进程（Process）是计算机中的程序关于某数据集合上的一次运行活动，\n",
    "#       是系统进行资源分配和调度的基本单位，是操作系统结构的基础。\n",
    "# 线程：线程，有时被称为轻量级进程(Lightweight Process，LWP），是程序执行流的最小单元。\n",
    "#       一个标准的线程由线程ID，当前指令指针(PC），寄存器集合和堆栈组成。另外，线程是进程中的一个实体，\n",
    "#       是被系统独立调度和分派的基本单位，线程自己不拥有系统资源，只拥有一点儿在运行中必不可少的资源，\n",
    "#       但它可与同属一个进程的其它线程共享进程所拥有的全部资源。一个线程可以创建和撤消另一个线程，\n",
    "#       同一进程中的多个线程之间可以并发执行。"
   ]
  },
  {
   "cell_type": "code",
   "execution_count": 26,
   "metadata": {
    "collapsed": false
   },
   "outputs": [
    {
     "name": "stdout",
     "output_type": "stream",
     "text": [
      "Parent process 9460.\n",
      "Child process will start.\n",
      "Child process end.\n"
     ]
    }
   ],
   "source": [
    "# 多进程\n",
    "from multiprocessing import Process\n",
    "import os\n",
    "\n",
    "# 子进程要执行的代码\n",
    "def run_proc(name):\n",
    "    print('Run child process %s (%s)...' % (name, os.getpid())) # 复制到文件然后在cmd窗口下执行\n",
    "\n",
    "if __name__=='__main__':\n",
    "    print('Parent process %s.' % os.getpid())\n",
    "    p = Process(target=run_proc, args=('test',))\n",
    "    print('Child process will start.')\n",
    "    p.start()\n",
    "    p.join()\n",
    "    print('Child process end.')"
   ]
  },
  {
   "cell_type": "code",
   "execution_count": 27,
   "metadata": {
    "collapsed": false
   },
   "outputs": [
    {
     "name": "stdout",
     "output_type": "stream",
     "text": [
      "thread MainThread is running...\n",
      "thread LoopThread is running...\n",
      "thread LoopThread >>> 1\n",
      "thread LoopThread >>> 2\n",
      "thread LoopThread >>> 3\n",
      "thread LoopThread >>> 4\n",
      "thread LoopThread >>> 5\n",
      "thread LoopThread ended.\n",
      "thread MainThread ended.\n"
     ]
    }
   ],
   "source": [
    "# 多线程\n",
    "import time, threading\n",
    "\n",
    "# 新线程执行的代码:\n",
    "def loop():\n",
    "    print('thread %s is running...' % threading.current_thread().name)\n",
    "    n = 0\n",
    "    while n < 5:\n",
    "        n = n + 1\n",
    "        print('thread %s >>> %s' % (threading.current_thread().name, n))\n",
    "        time.sleep(1)\n",
    "    print('thread %s ended.' % threading.current_thread().name)\n",
    "\n",
    "print('thread %s is running...' % threading.current_thread().name)\n",
    "t = threading.Thread(target=loop, name='LoopThread')\n",
    "t.start()\n",
    "t.join()\n",
    "print('thread %s ended.' % threading.current_thread().name)"
   ]
  },
  {
   "cell_type": "code",
   "execution_count": null,
   "metadata": {
    "collapsed": false
   },
   "outputs": [
    {
     "name": "stdout",
     "output_type": "stream",
     "text": [
      "Parent process 14364.\n",
      "Waiting for all subprocesses done...\n"
     ]
    }
   ],
   "source": [
    "# 进程池\n",
    "from multiprocessing import Pool\n",
    "import os, time, random\n",
    "\n",
    "def long_time_task(name):\n",
    "    print('Run task %s (%s)...' % (name, os.getpid()))\n",
    "    start = time.time()\n",
    "    time.sleep(random.random() * 3)\n",
    "    end = time.time()\n",
    "    print('Task %s runs %0.2f seconds.' % (name, (end - start)))\n",
    "\n",
    "if __name__=='__main__':\n",
    "    print('Parent process %s.' % os.getpid())\n",
    "    p = Pool(4)\n",
    "    for i in range(5):\n",
    "        p.apply_async(long_time_task, args=(i,))\n",
    "    print('Waiting for all subprocesses done...')\n",
    "    p.close()\n",
    "    p.join()\n",
    "    print('All subprocesses done.')"
   ]
  },
  {
   "cell_type": "code",
   "execution_count": null,
   "metadata": {
    "collapsed": true
   },
   "outputs": [],
   "source": [
    "# 线程池\n",
    "import threadpool\n",
    "import time\n",
    "\n",
    "def long_op(x):\n",
    "    print('%d\\\\n' % n)\n",
    "    time.sleep(2)\n",
    "\n",
    "pool = threadpool.ThreadPool(os.cpu_count())\n",
    "tasks = threadpool.makeRequests(long_op, [1, 2, 3, 4, 5, 6, 7, 8, 9, 10]) # 可以尝试函数使用多个参数，必须看源代码\n",
    "print(len(tasks))\n",
    "[pool.putRequest(task) for task in tasks]\n",
    "pool.wait()"
   ]
  },
  {
   "cell_type": "code",
   "execution_count": 33,
   "metadata": {
    "collapsed": false
   },
   "outputs": [
    {
     "name": "stdout",
     "output_type": "stream",
     "text": [
      "[45, 56, 64]\n"
     ]
    }
   ],
   "source": [
    "# 多线程的应用\n",
    "def top3(data):\n",
    "    data.sort()\n",
    "    temp_result[threading.current_thread().name] = data[-3:]\n",
    "    \n",
    "data_set = [[1, 7, 8, 9, 20, 11, 14, 15],\n",
    "            [19, 21, 23, 24, 45, 12, 45, 56, 31],\n",
    "            [18, 28, 64, 22, 17, 28]]\n",
    "temp_result = {}\n",
    "threads = []\n",
    "for i in range(len(data_set)):\n",
    "    t = threading.Thread(target=top3, name=str(i), args=(data_set[i], ))\n",
    "    threads.append(t)\n",
    "for t in threads:\n",
    "    t.start()\n",
    "for t in threads:\n",
    "    t.join()\n",
    "result = []\n",
    "for k, v in temp_result.items():\n",
    "    result.extend(v)\n",
    "result.sort()\n",
    "print(result[-3:])"
   ]
  },
  {
   "cell_type": "code",
   "execution_count": null,
   "metadata": {
    "collapsed": true
   },
   "outputs": [],
   "source": [
    "# 多进程变量共享\n",
    "from multiprocessing import Process, Queue\n",
    "import os, time, random\n",
    "\n",
    "def write(q):\n",
    "    print('Write: %s' % os.getpid())\n",
    "    for value in ['AAA', 'BBB', 'Hello World']:\n",
    "        print('Write %s' % value)\n",
    "        q.put(value)\n",
    "        time.sleep(random.random())\n",
    "        \n",
    "def read(q):\n",
    "    print('Read: %s' % os.getpid())\n",
    "    while True:\n",
    "        value = q.get(True)\n",
    "        print('Read %s' % value)\n",
    "        \n",
    "if __name__ == '__main__':\n",
    "    q = Queue()\n",
    "    pw = Process(target=write, args=(q,))\n",
    "    pr = Process(target=read, args=(q,))\n",
    "    pw.start()\n",
    "    pr.start()\n",
    "    pw.join()\n",
    "    time.sleep(3)\n",
    "    pr.terminate()\n",
    "    print('Done')"
   ]
  },
  {
   "cell_type": "code",
   "execution_count": 38,
   "metadata": {
    "collapsed": false
   },
   "outputs": [
    {
     "name": "stdout",
     "output_type": "stream",
     "text": [
      "55\n"
     ]
    }
   ],
   "source": [
    "# 锁\n",
    "import threading\n",
    "\n",
    "lock = threading.Lock()\n",
    "\n",
    "balance = 0\n",
    "def change_balance(n):\n",
    "    global balance\n",
    "    balance += n \n",
    "    # balance = 100，但是两个进程，1个加10，一个加20，同时操作，最后balance可能变成110，也可能变成120，\n",
    "    # 但不是我们要的130。\n",
    "    \n",
    "def run_thread(n):\n",
    "    lock.acquire()\n",
    "    try:\n",
    "        change_balance(n)\n",
    "    except:\n",
    "        pass\n",
    "    finally:\n",
    "        lock.release()\n",
    "    \n",
    "threads = []\n",
    "for i in range(11):\n",
    "    t = threading.Thread(target=run_thread, args=(i, ))\n",
    "    threads.append(t)\n",
    "for t in threads:\n",
    "    t.start()\n",
    "for t in threads:\n",
    "    t.join()\n",
    "print(balance)"
   ]
  },
  {
   "cell_type": "code",
   "execution_count": 39,
   "metadata": {
    "collapsed": false
   },
   "outputs": [
    {
     "name": "stdout",
     "output_type": "stream",
     "text": [
      "['C:\\\\ProgramData\\\\Anaconda3\\\\lib\\\\site-packages\\\\ipykernel\\\\__main__.py', '-f', 'C:\\\\Users\\\\linying\\\\AppData\\\\Roaming\\\\jupyter\\\\runtime\\\\kernel-45f7c5a8-65b1-46d3-91a1-70191bffadd1.json']\n",
      "['', 'C:\\\\ProgramData\\\\Anaconda3\\\\python36.zip', 'C:\\\\ProgramData\\\\Anaconda3\\\\DLLs', 'C:\\\\ProgramData\\\\Anaconda3\\\\lib', 'C:\\\\ProgramData\\\\Anaconda3', 'C:\\\\ProgramData\\\\Anaconda3\\\\lib\\\\site-packages', 'C:\\\\ProgramData\\\\Anaconda3\\\\lib\\\\site-packages\\\\Sphinx-1.5.1-py3.6.egg', 'C:\\\\ProgramData\\\\Anaconda3\\\\lib\\\\site-packages\\\\win32', 'C:\\\\ProgramData\\\\Anaconda3\\\\lib\\\\site-packages\\\\win32\\\\lib', 'C:\\\\ProgramData\\\\Anaconda3\\\\lib\\\\site-packages\\\\Pythonwin', 'C:\\\\ProgramData\\\\Anaconda3\\\\lib\\\\site-packages\\\\setuptools-27.2.0-py3.6.egg', 'C:\\\\ProgramData\\\\Anaconda3\\\\lib\\\\site-packages\\\\IPython\\\\extensions', 'C:\\\\Users\\\\linying\\\\.ipython']\n"
     ]
    }
   ],
   "source": [
    "# sys应用\n",
    "import sys\n",
    "print(sys.argv)\n",
    "print(sys.path)\n",
    "# sys.path.append(...)"
   ]
  },
  {
   "cell_type": "code",
   "execution_count": 54,
   "metadata": {
    "collapsed": false,
    "scrolled": true
   },
   "outputs": [
    {
     "name": "stdout",
     "output_type": "stream",
     "text": [
      "1208.ipynb\n",
      "1209_文件和多线程.pptx\n",
      "1210_常用第三方模块.pptx\n",
      "config.json\n",
      "new_sample.txt\n",
      "sales.csv\n",
      "sample.txt\n",
      "test.py\n",
      ".ipynb_checkpoints\n",
      "\t1208-checkpoint.ipynb\n",
      "\tUntitled-checkpoint.ipynb\n",
      "test_dir\n",
      "\ttest_dir_2\n",
      "\t\taaa.txt\n"
     ]
    }
   ],
   "source": [
    "# os应用\n",
    "# 关键部分：os.listdir, os.path.abspath/isdir/join\n",
    "import os  \n",
    "\n",
    "def dir_s(path, tabs=0):\n",
    "    path = os.path.abspath(path)\n",
    "    files= os.listdir(path) #得到文件夹下的所有文件名称 \n",
    "    my_dirs = []\n",
    "    for f in files:\n",
    "        abs_path = os.path.join(path, f)\n",
    "        if os.path.isdir(abs_path):\n",
    "            my_dirs.append(f)\n",
    "        else:\n",
    "            print('\\t' * tabs + f)\n",
    "    for my_dir in my_dirs:\n",
    "        print('\\t' * tabs + my_dir)\n",
    "        dir_s(os.path.join(path, my_dir), tabs + 1)\n",
    "\n",
    "dir_s('.') # 尝试walk函数更简单的实现"
   ]
  }
 ],
 "metadata": {
  "kernelspec": {
   "display_name": "Python 3",
   "language": "python",
   "name": "python3"
  },
  "language_info": {
   "codemirror_mode": {
    "name": "ipython",
    "version": 3
   },
   "file_extension": ".py",
   "mimetype": "text/x-python",
   "name": "python",
   "nbconvert_exporter": "python",
   "pygments_lexer": "ipython3",
   "version": "3.6.0"
  }
 },
 "nbformat": 4,
 "nbformat_minor": 2
}
