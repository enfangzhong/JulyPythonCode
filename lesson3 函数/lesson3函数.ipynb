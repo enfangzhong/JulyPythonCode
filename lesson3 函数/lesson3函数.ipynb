{
 "cells": [
  {
   "cell_type": "markdown",
   "metadata": {
    "collapsed": true
   },
   "source": [
    "# Python基本入门升级版\n",
    "## (三)、函数\n",
    "\n",
    "### 七月在线 julyedu.com\n",
    "David "
   ]
  },
  {
   "cell_type": "markdown",
   "metadata": {},
   "source": [
    "## Python中的函数\n",
    "- 七月在线 julyedu.com\n"
   ]
  },
  {
   "cell_type": "code",
   "execution_count": 7,
   "metadata": {
    "scrolled": true
   },
   "outputs": [
    {
     "name": "stdout",
     "output_type": "stream",
     "text": [
      "0\n",
      "1\n",
      "2\n",
      "3\n",
      "4\n"
     ]
    },
    {
     "data": {
      "text/plain": [
       "0"
      ]
     },
     "execution_count": 7,
     "metadata": {},
     "output_type": "execute_result"
    }
   ],
   "source": [
    "#函数的意义\n",
    "\n",
    "n=5\n",
    "for i in range(n):\n",
    "    print(i)\n",
    "    \n",
    "    \n",
    "   \n",
    "    \n",
    "# 以函数名对以上代码块进行封装\n",
    "def foo(num):\n",
    "    for i in range(num):\n",
    "        print(i)\n",
    "\n",
    "\n",
    "#然后进行反复调用\n",
    "# foo()\n",
    "\n",
    "#对输入进行变换映射后输出\n",
    "\n",
    "    \n",
    "#函数的定义\n",
    "def foo1(num):#函数名与参数\n",
    "#函数体\n",
    "    cumsum=0#函数内部的变量\n",
    "    for i in range(num):\n",
    "        cumsum+=i\n",
    "#返回值\n",
    "    return cumsum\n",
    "foo1(15)\n",
    "\n",
    "\n",
    "#函数的返回值-无返回值 \n",
    "def foo2():#函数名与参数\n",
    "#函数体\n",
    "    cumsum=0\n",
    "    for i in range(15):\n",
    "        cumsum+=i\n",
    "#无返回值\n",
    "#或者return后为空\n",
    "foo2()\n",
    "\n",
    "#函数的返回值，有返回值\n",
    "def foo3():#函数名与参数\n",
    "#函数体\n",
    "    cumsum=0\n",
    "    for i in range(15):\n",
    "        cumsum+=i\n",
    "        \n",
    "#return返回的是对象，（如返回对象数>1返回元组)\n",
    "    return cumsum,cumsum*2\n",
    "#函数结束\n",
    "\n",
    "foo3()\n",
    "\n",
    "\n",
    "#return与print在Notebook上的差异\n",
    "\n",
    "# def foo2():\n",
    "#     for i in range(5):\n",
    "#         print(i)\n",
    "\n",
    "# foo2()\n",
    "\n",
    "# #函数的参数\n",
    "# def foo3(num):\n",
    "#     for i in range(num):\n",
    "#         print(i)\n",
    "#     return 'Done'\n",
    "# foo3(1)\n",
    "\n",
    "# print(foo3(2))\n",
    "\n",
    "\n",
    "\n",
    "### 函数的返回\n",
    "\n",
    "#return与yield关键字\n",
    "\n",
    "#return \n",
    "def foo1():#不返回任何的函数\n",
    "    print('i\\'m foo1,but i return nothing')\n",
    "\n",
    "def foo2():#使用return返回值\n",
    "    return 'i\\'m foo2, this is what i return'\n",
    "\n",
    "def foo3():#函数被调用时，遇到结尾或return时就准备结束了。\n",
    "    return 'i\\'m foo3, this is the first return'\n",
    "    return 'i\\'m foo3, this is the secod return'\n",
    "\n",
    "\n",
    "#yield\n",
    "def foo4():\n",
    "    for i in range(5):\n",
    "        return i#执行第一次时foo4函数就结束了\n",
    "\n",
    "    \n",
    "#yield\n",
    "def foo4():\n",
    "    for i in range(5):\n",
    "        yield i\n",
    "        yield 'f' #再加入一个yield看看会不会被执行\n",
    "        i+=1\n",
    "        \n",
    "\n",
    "\n",
    "g1=foo4()#看一下调用foo4()返回的是什么\n",
    "type(g1)#看一下g1是个什么样子的对象\n",
    "next(g1)#继续上一次的位置，进入下一层循环\n",
    "#执行完最后一次循环，结束 yield语句并抛出StopIteration 异常"
   ]
  },
  {
   "cell_type": "markdown",
   "metadata": {},
   "source": [
    "### 函数中的参数\n",
    "- 七月在线 julyedu.com"
   ]
  },
  {
   "cell_type": "code",
   "execution_count": 1,
   "metadata": {},
   "outputs": [
    {
     "name": "stdout",
     "output_type": "stream",
     "text": [
      "公司名: 七月在线 公司网址: http://www.julyedu.com\n",
      "公司名: http://www.julyedu.com 公司网址: 七月在线\n",
      "公司名: 七月在线 公司网址: http://www.julyedu.com 介绍: 专注AI教育\n",
      "公司名: 七月在线 公司网址: http://www.julyedu.com 介绍: 国内领先的AI教育平台\n",
      "<class 'tuple'>\n",
      "<class 'tuple'>\n",
      "<class 'dict'>\n",
      "film : 羞羞的铁拳\n",
      "box : 3.5\n",
      "<class 'dict'>\n",
      "film : 羞羞的铁拳\n",
      "box : 3.5\n",
      "rate : 7.9\n",
      "个人信息: xiaoming 22\n",
      "高中部\n",
      "三年二班\n",
      "课程信息: python\n",
      "每节课成绩:\n",
      "Lesson1 80\n",
      "Lesson2 85\n",
      "个人信息: xiaoming 22\n",
      "三年二班\n",
      "课程信息: machine learning\n",
      "每节课成绩:\n",
      "Lesson1 80\n",
      "Lesson2 85\n",
      "<class 'tuple'>\n",
      "<class 'dict'>\n",
      "羞羞的铁拳 : 3.5\n",
      "雷神3 : 3.1\n",
      "战狼2 : 60\n"
     ]
    }
   ],
   "source": [
    "#按参数传递方式\n",
    "\n",
    "#位置参数\n",
    "def foo3(companyName,websiteUrl):#位置参数的定义\n",
    "    print('公司名:',companyName,'公司网址:',websiteUrl)\n",
    "foo3('七月在线','http://www.julyedu.com')\n",
    "foo3('http://www.julyedu.com',websiteUrl='七月在线') \n",
    "\n",
    "#位置参数，对位置敏感，传递时不用指定参数名\n",
    "\n",
    "#关键字参数\n",
    "def foo4(companyName,websiteUrl,intro='专注AI教育'):#关键字参数的定义\n",
    "    print('公司名:',companyName,'公司网址:',websiteUrl,'介绍:',intro)\n",
    "\n",
    "foo4('七月在线','http://www.julyedu.com')#不传关键字参数，函数依旧可以被调用，采用默认值\n",
    "foo4('七月在线','http://www.julyedu.com',intro='国内领先的AI教育平台')#传关键字参数，覆盖默认值\n",
    "\n",
    "\n",
    "\n",
    "#如果想一次传入不定长个位置参数，怎么办呢？\n",
    "#位置参数包裹及使用*\n",
    "\n",
    "def mysum1(a,b,c):\n",
    "    return a+b+c\n",
    "\n",
    "mysum1(5,7,15)\n",
    "#mysum1(5,7)  #报错，因为传入的参数少于函数定义时的个数\n",
    "#mysum1(5,7,15,22)  #报错，因为传入的参数多于函数定义时的个数\n",
    "\n",
    "#这时我们就需要使用包裹进行接收\n",
    "def mysum2(*args):\n",
    "    print(type(args))\n",
    "    return sum(args)\n",
    "\n",
    "mysum2(5,7,15,22,33)#正常调用\n",
    "mysum2(5,7)#正常调用\n",
    "\n",
    "\n",
    "\n",
    "\n",
    "#那同样如果想一次性传入不定长关键字参数，也可以使用一个包裹进行接收\n",
    "#关键字参数包裹及使用**\n",
    "\n",
    "def filmInfo(**kwargs):\n",
    "    print(type(kwargs))\n",
    "    for key,values in kwargs.items():\n",
    "        print(key,':',values)\n",
    "\n",
    "filmInfo(film='羞羞的铁拳',box=3.5)\n",
    "filmInfo(film='羞羞的铁拳',box=3.5,rate=7.9)\n",
    "\n",
    "# d1={'羞羞的铁拳':3.5,'雷神3':3.1}\n",
    "\n",
    "\n",
    "#包裹解包顺序\n",
    "#首先拆位置参数包裹，按顺序给必选，默认，可变。\n",
    "#再抓给关键字参数包裹\n",
    "def scoreReport(name,age,*args,course='python',**kwargs):\n",
    "    print('个人信息:',name,age)\n",
    "    for item in args:\n",
    "        print(item)\n",
    "    print('课程信息:',course)\n",
    "    print('每节课成绩:')\n",
    "    for key,value in kwargs.items():\n",
    "        print (key,value)\n",
    "        \n",
    "scoreReport('xiaoming',22,'高中部','三年二班',Lesson1=80,Lesson2=85)\n",
    "scoreReport('xiaoming',22,'三年二班',course='machine learning',Lesson1=80,Lesson2=85)\n",
    "\n",
    "\n",
    "#传递参数时使用包裹-位置参数\n",
    "l1=[1,5,6,7,2,5,3.5,9,6,3,4]\n",
    "mysum2(*l1)\n",
    "\n",
    "#zip案例\n",
    "l1=[(1,3),(2,4)]\n",
    "list(zip(*l1))\n",
    "\n",
    "##传递参数时使用包裹-关键字型参数\n",
    "d1={'羞羞的铁拳':3.5,'雷神3':3.1,'战狼2':60}\n",
    "filmInfo(**d1)"
   ]
  },
  {
   "cell_type": "markdown",
   "metadata": {},
   "source": [
    "### 参数传递的处理\n",
    "- 七月在线 julyedu.com"
   ]
  },
  {
   "cell_type": "code",
   "execution_count": 2,
   "metadata": {},
   "outputs": [
    {
     "name": "stdout",
     "output_type": "stream",
     "text": [
      "before reference: 7 julyedu\n",
      "In foo1 a,b has changed to 8 julyedu.com\n",
      "after reference: 7 julyedu\n",
      ">>>>>>>>>>>>>>>>>>>>>>>>>>>>>>>>>>>>>>>>\n",
      "before reference: [1, 2, 3.4] {'name': 'jack'}\n",
      "after reference: [1, 2] {'name': 'jack', 'age': 22}\n"
     ]
    }
   ],
   "source": [
    "#值传递，参数本身不会被修改\n",
    "a=7\n",
    "b='julyedu'\n",
    "print('before reference:',a,b)\n",
    "\n",
    "def foo1(a,b):\n",
    "    a+=1\n",
    "    b+='.com'\n",
    "    print('In foo1 a,b has changed to',a,b)\n",
    "\n",
    "foo1(a,b)\n",
    "print('after reference:',a,b)\n",
    "#结论：值传递时，变量传递给函数后，函数复制一份，不会影响原有变量\n",
    "\n",
    "\n",
    "print('>'*40)\n",
    "\n",
    "\n",
    "#指针传递参数，会修改参数本身\n",
    "l1=[1,2,3.4]\n",
    "d1={'name':'jack'}\n",
    "def foo2(a,b):\n",
    "    a.pop()\n",
    "    b['age']=22\n",
    "print('before reference:',l1,d1)\n",
    "\n",
    "foo2(l1,d1)\n",
    "\n",
    "\n",
    "print('after reference:',l1,d1)\n",
    "#结论：指针（或引用）传递时，变量传递给函数的是及引用，该引用可以改变原变量"
   ]
  },
  {
   "cell_type": "markdown",
   "metadata": {},
   "source": [
    "### 变量作用域\n",
    "\n",
    "- 七月在线 julyedu.com"
   ]
  },
  {
   "cell_type": "code",
   "execution_count": 190,
   "metadata": {},
   "outputs": [
    {
     "name": "stdout",
     "output_type": "stream",
     "text": [
      "JulyEdu\n",
      "www.julyedu.com\n",
      "[7, 2.5, 'julyedu.com', 'AI教育']\n"
     ]
    }
   ],
   "source": [
    "#全局变量\n",
    "website='julyedu.com'\n",
    "companyName='七月在线'\n",
    "list1=[7,2.5,'julyedu.com']\n",
    "\n",
    "def getWebsite():\n",
    "    \n",
    "    #既想引用又想修改全局变量呢？global\n",
    "    global website\n",
    "    website='www.julyedu.com'#并非真正意义修改\n",
    "    #只是改变了website这个引用 的指向到了www.junlyedu.com\n",
    "    #还记得不可变对象吗，，是不会被引用 修改的对象\n",
    "    \n",
    "    list1.append('AI教育')#注意这里的全局变量是list型，因此修改是全局性的。\n",
    "    \n",
    "    \n",
    "#     #如果想在函数内部引用全局变量呢?直接使用即可\n",
    "#     print(website)\n",
    "    \n",
    "#     #新建局部变量\n",
    "#     #貌似是给全局变量赋值，其实是新建了一个局部变量\n",
    "#     website='julyedu.org'#函数内部与全局同名，即覆盖\n",
    "#     这个website变量名的生命周期只在该函数被调用时，调用结束，也就结束了。\n",
    "#     print(website)\n",
    "\n",
    "\n",
    "    #变量搜索顺序，如果要使用的变量名在局部中有，则使用，如果没有则向上一层寻找\n",
    "    companyName='JulyEdu'\n",
    "    print(companyName)\n",
    "    \n",
    "    \n",
    "getWebsite()#调用函数，开始函数内局部变量的生命周期，函数结束后，它们也就结束了。\n",
    "\n",
    "#全局变量\n",
    "print(website)\n",
    "\n",
    "#全局可变变量,被函数内部修改了，添加了AI教育\n",
    "print(list1)\n",
    "\n",
    "#全局变量会一直存在，除非是脚本运行结束 或 del 删除它，\n",
    "# del website\n",
    "# print(website) #报错"
   ]
  },
  {
   "cell_type": "markdown",
   "metadata": {},
   "source": [
    "## 偏函数PFA\n",
    "\n",
    "- 七月在线 julyedu.com\n"
   ]
  },
  {
   "cell_type": "code",
   "execution_count": 187,
   "metadata": {},
   "outputs": [
    {
     "data": {
      "text/plain": [
       "functools.partial"
      ]
     },
     "execution_count": 187,
     "metadata": {},
     "output_type": "execute_result"
    }
   ],
   "source": [
    "#Partial function application(PFA)\n",
    "# 只设置了一部分的参数的函数\n",
    "# 固定一部分参数，使得被调用时，某些参数被固定住了。\n",
    "\n",
    "\n",
    "#例如我们要定义一个函数将传进来的16进制的字符串，转换为10进制的\n",
    "def hex2int1(num):\n",
    "    return  (str(num),base=16)#base为关键字参数，这个在调用int这个函数时，固定给16。因为这个函数就是用来转换16进制到10进制\n",
    "\n",
    "hex2int('F')#这时调用，相当于实际上会把10作为*args的一部分自动加到左边，也就是：int('F',base=16),这样就少写了一个函数\n",
    "\n",
    "\n",
    "#这时也可以使用偏函数，固定int函数的关键字参数base，可以这样定义：\n",
    "import functools\n",
    "hex2int2=functools.partial(int,base=16)\n",
    "#hex2int2('A')\n",
    "\n",
    "\n",
    "#偏函数能固定位置参数？\n",
    "#可以\n",
    "max100=functools.partial(max,100)#定义一个叫max100的偏函数，将这个偏函数的第一个值固定为100\n",
    "max100(101)#这时调用它，传入的值，都会与100进行比较反并返回。\n",
    "\n",
    "\n",
    "type(max100)#偏函数的类型与普通函数不一样"
   ]
  },
  {
   "cell_type": "markdown",
   "metadata": {},
   "source": [
    "## 递归\n",
    "- 七月在线 julyedu.com\n"
   ]
  },
  {
   "cell_type": "code",
   "execution_count": 9,
   "metadata": {},
   "outputs": [
    {
     "data": {
      "text/plain": [
       "100"
      ]
     },
     "execution_count": 9,
     "metadata": {},
     "output_type": "execute_result"
    }
   ],
   "source": [
    "#递归的方法求一个列表中数值的累加\n",
    "def foo1(num):\n",
    "    if len(num)==1:\n",
    "        return num[0]\n",
    "    else:\n",
    "#         print(num[0],'>'*6)\n",
    "#         print(num[1:],'   >'*6)\n",
    "        return num[0]+foo1(num[1:])\n",
    "    \n",
    "foo1([1,2,31,5,6,55])\n",
    "\n",
    "\n",
    "#使用递归分解质因数\n",
    "l1=[]\n",
    "def fenji(num):\n",
    "    num=int(num)\n",
    "\n",
    "    for i in range(2,num):\n",
    "            if num%i==0:\n",
    "                l1.append(i)\n",
    "                nextv=int(num/i)\n",
    "                fenji(nextv)\n",
    "                break#这里的break不加就会硬循环60次                \n",
    "    return l1\n",
    "\n",
    "fenji(60)\n",
    "\n",
    "#阶乘\n",
    "def factorial(n):\n",
    "    if n==1:\n",
    "        return 1\n",
    "    else:\n",
    "        return n*factorial(n-1)\n",
    "factorial (5)"
   ]
  },
  {
   "cell_type": "markdown",
   "metadata": {},
   "source": [
    "## 匿名函数lambda\n",
    "- 七月在线 julyedu.com\n"
   ]
  },
  {
   "cell_type": "code",
   "execution_count": 13,
   "metadata": {},
   "outputs": [
    {
     "name": "stdout",
     "output_type": "stream",
     "text": [
      "<class 'function'>\n",
      "11\n"
     ]
    },
    {
     "data": {
      "text/plain": [
       "[('India', 9), ('Japan', 1.5), ('USA', 2), ('china', 15)]"
      ]
     },
     "execution_count": 13,
     "metadata": {},
     "output_type": "execute_result"
    }
   ],
   "source": [
    "#匿名函数\n",
    "print(type(lambda a,b:a**b ))\n",
    "#定义\n",
    "#函数体\n",
    "#不用写return\n",
    "\n",
    "#使用1：作为正常函数使用，不推荐\n",
    "foo=lambda x,y:x+y #不用写return\n",
    "#lambda\n",
    "print(foo(5,6))\n",
    "\n",
    "#使用2：lambda关键字定义在高阶函数的参数位上\n",
    "d1={'china':15,'India':9,'USA':2,'Japan':1.5}\n",
    "sorted(d1.items(),key=lambda x:(x[0],x[1]))#按d1.items()第0个元素升序，国家名\n",
    "# sorted(d1.items(),key=lambda x:(x[1]))#按d1.items()第1个元素升序,人口数"
   ]
  },
  {
   "cell_type": "markdown",
   "metadata": {},
   "source": [
    "## 高阶函数\n",
    "- 七月在线 julyedu.com\n"
   ]
  },
  {
   "cell_type": "code",
   "execution_count": 16,
   "metadata": {},
   "outputs": [
    {
     "name": "stdout",
     "output_type": "stream",
     "text": [
      "<built-in function abs> <built-in function abs>\n"
     ]
    },
    {
     "data": {
      "text/plain": [
       "<function max>"
      ]
     },
     "execution_count": 16,
     "metadata": {},
     "output_type": "execute_result"
    }
   ],
   "source": [
    "#函数对象的引用 与 调用\n",
    "num=-5\n",
    "a=b=c=abs\n",
    "\n",
    "#引用\n",
    "print(abs,a)\n",
    "\n",
    "#调用\n",
    "a(num)\n",
    "b(-8.8)\n",
    "c(7)\n",
    "\n",
    "#函数名本质即变量，同一个函数对象可以被多个变量引用\n",
    "def foo():#新建一个函数对象，并用foo这个变量名对其进行引用 \n",
    "    pass\n",
    "\n",
    "del foo#对函数对象的引用可以删除\n",
    "\n",
    "\n",
    "\n",
    "#高阶函数\n",
    "def mycalucate(num,func):\n",
    "    return func(num)\n",
    "\n",
    "l1=[5,8,3,6,9,15,22]\n",
    "\n",
    "mycalucate(l1,max)\n",
    "mycalucate(l1,min)\n",
    "mycalucate(l1,sum)\n",
    "mycalucate(l1,reversed)\n",
    "\n",
    "\n",
    "#回调函数\n",
    "def callbackfunc(*num):\n",
    "    return max\n",
    "callbackfunc(53,5,33)"
   ]
  },
  {
   "cell_type": "markdown",
   "metadata": {},
   "source": [
    "## BIFs-高阶函数\n",
    "- 七月在线 julyedu.com\n"
   ]
  },
  {
   "cell_type": "code",
   "execution_count": 33,
   "metadata": {},
   "outputs": [
    {
     "data": {
      "text/plain": [
       "36"
      ]
     },
     "execution_count": 33,
     "metadata": {},
     "output_type": "execute_result"
    }
   ],
   "source": [
    "l1=[2,3,5,7,3,4,5,9,'julyedu.com',[2,3,3],5,2]\n",
    "\n",
    "filter\n",
    "#语法：filter(function,list)\n",
    "# 函数 f 的作用是对每个元素进行判断，返回 True或 False\n",
    "# filter()根据判断结果自动过滤掉不符合条件的元素，返回由符合条件元素组成的新list。\n",
    "\n",
    "\n",
    "def myfilter(x):\n",
    "    if x>60:\n",
    "        return True\n",
    "    else:\n",
    "        return False\n",
    "\n",
    "myfilter(61)\n",
    "\n",
    "l1=[1,61]\n",
    "\n",
    "filter(myfilter,l1)\n",
    "\n",
    "list(filter(lambda x:True if type(x)==str else False,l1))\n",
    "\n",
    "#map\n",
    "# 语法：map(function, list)\n",
    "#让list的每一个元素依次调用function函数，并获取返回值存入一个新的list中。\n",
    "\n",
    "map(lambda x:(x,l1.count(x)),l1)\n",
    "\n",
    "\n",
    "# reduce\n",
    "# 语法：reduce(function, list)\n",
    "#函数function必须包含两个参数，optional可选，如果存在则表示初值为optional \n",
    "#reduce()对list的每个元素反复调用函数f，并返回最终结果值。\n",
    "from functools import reduce\n",
    "reduce(lambda a,b:a+b,[1,2,3,4,5,6,7,8])"
   ]
  },
  {
   "cell_type": "markdown",
   "metadata": {},
   "source": [
    "## 闭包\n",
    "- 七月在线 julyedu.com\n"
   ]
  },
  {
   "cell_type": "code",
   "execution_count": 177,
   "metadata": {},
   "outputs": [
    {
     "name": "stdout",
     "output_type": "stream",
     "text": [
      "nums_in_function此时在是foo1中，可以被 访问： [5, 3, 8]\n"
     ]
    },
    {
     "data": {
      "text/plain": [
       "8"
      ]
     },
     "execution_count": 177,
     "metadata": {},
     "output_type": "execute_result"
    }
   ],
   "source": [
    "nums_in_global=[15,2,3,9,3.2]#声明一个全局\n",
    "\n",
    "def foo1(nums_in_function):\n",
    "    print('nums_in_function此时在是foo1中，可以被 访问：',nums_in_function)\n",
    "    def foo2():\n",
    "        return max(nums_in_function)#虽然没有给foo2传入任何参数，但foo2却能访问到foo1中的变量nums_in_function\n",
    "#         return max(nums_in_global)#虽然没有给foo2传入任何参数，但foo2却能访问到全局变量nums_in_global\n",
    "    return foo2\n",
    "\n",
    "# print(nums_in_function)#此时已经消失了 #name 'nums_in_function' is not defined\n",
    "\n",
    "#调用\n",
    "foo1([5,3,8])()\n",
    "\n",
    "\n",
    "#简单记忆闭包：函数记住其外层作用域的事实"
   ]
  },
  {
   "cell_type": "markdown",
   "metadata": {},
   "source": [
    "## 装饰器\n",
    "- 七月在线 julyedu.com\n"
   ]
  },
  {
   "cell_type": "code",
   "execution_count": 36,
   "metadata": {
    "collapsed": true
   },
   "outputs": [],
   "source": [
    "#现有如下 三个函数\n",
    "def foo1():\n",
    "    print ('this is foo1 function')\n",
    "\n",
    "def foo2():\n",
    "    print ('this is foo2 function')\n",
    "\n",
    "def foo3():\n",
    "    print ('this is foo3 function')\n",
    "    \n",
    "#现在想为每一个函数都添加一个打印当前时间的功能\n",
    "#一种解决办法是一个一个修改，在底部添加代码，但问题是，太麻烦了~\n",
    "import datetime\n",
    "\n",
    "def foo1():\n",
    "    print ('this is foo1 function')\n",
    "    print(datetime.datetime.now())\n",
    "\n",
    "def foo2():\n",
    "    print ('this is foo2 function')\n",
    "    print(datetime.datetime.now())\n",
    "    \n",
    "def foo3():\n",
    "    print ('this is foo3 function')\n",
    "    print(datetime.datetime.now())  \n",
    "\n",
    "\n",
    "#另一种办法是，写一个函数，负责打印时间,然后修改那三个函数\n",
    "import datetime\n",
    "\n",
    "def printtime():\n",
    "    print(datetime.datetime.now())  \n",
    "    \n",
    "def foo1():\n",
    "    print ('this is foo1 function')\n",
    "    printtime()\n",
    "\n",
    "def foo2():\n",
    "    print ('this is foo2 function')\n",
    "    printtime()\n",
    "    \n",
    "def foo3():\n",
    "    print ('this is foo3 function')\n",
    "    printtime()\n",
    "\n",
    "#虽然不那么麻烦了，但还是每个函数都要修改，依旧很麻烦。"
   ]
  },
  {
   "cell_type": "code",
   "execution_count": 37,
   "metadata": {
    "scrolled": true
   },
   "outputs": [
    {
     "name": "stdout",
     "output_type": "stream",
     "text": [
      "2017-12-02 16:35:43.417014\n",
      "this is foo2 function\n"
     ]
    }
   ],
   "source": [
    "#我们可以这样解决\n",
    "def foo1():\n",
    "    print ('this is foo1 function')\n",
    "\n",
    "def foo2():\n",
    "    print ('this is foo2 function')\n",
    "\n",
    "def foo3():\n",
    "    print ('this is foo3 function')\n",
    "\n",
    "def extrafoo(func):\n",
    "    print(datetime.datetime.now())\n",
    "    return func\n",
    "\n",
    "decorated=extrafoo(foo2)\n",
    "decorated()\n",
    "\n",
    "#这样每次调用还是有点麻烦，要先写一个函数接收，再调用。OK，再弄简单一些"
   ]
  },
  {
   "cell_type": "code",
   "execution_count": 41,
   "metadata": {
    "collapsed": true
   },
   "outputs": [],
   "source": [
    "#我们可以这样解决\n",
    "import datetime\n",
    "def extrafoo(func):\n",
    "    def inner():\n",
    "        print('extra:',datetime.datetime.now())\n",
    "        print('from inner to execute:',func.__name__)\n",
    "        print('the',func.__name__,'result:',func())\n",
    "    return inner\n",
    "\n",
    "@extrafoo#装饰器特性，被装饰的函数定义之后立即运行。\n",
    "def foo1():\n",
    "    return 'this is foo1 function--'\n",
    "\n",
    "\n",
    "#@是python装饰器的简便写法，也叫语法糖\n",
    "#装饰器语法糖在要被包裹的函数前声明。@后面的函数名，是包裹下边函数的函数名extrafoo\n",
    "#该语法糖省略了\n",
    "#decorated=foo(test)\n",
    "#decorated()\n",
    "\n",
    "\n",
    "# 装饰器在Python使用如此方便都要归因于\n",
    "# Python的函数能像普通的对象一样能作为参数传递给其他函数\n",
    "# 可以被赋值给其他变量，可以作为返回值，可以被定义在另外一个函数内。\n",
    "\n",
    "\n",
    "#foo1()"
   ]
  }
 ],
 "metadata": {
  "kernelspec": {
   "display_name": "Python 3",
   "language": "python",
   "name": "python3"
  },
  "language_info": {
   "codemirror_mode": {
    "name": "ipython",
    "version": 3
   },
   "file_extension": ".py",
   "mimetype": "text/x-python",
   "name": "python",
   "nbconvert_exporter": "python",
   "pygments_lexer": "ipython3",
   "version": "3.6.1"
  }
 },
 "nbformat": 4,
 "nbformat_minor": 2
}
