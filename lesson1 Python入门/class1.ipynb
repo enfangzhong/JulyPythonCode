{
 "cells": [
  {
   "cell_type": "markdown",
   "metadata": {},
   "source": [
    "求从1到100的数字中所有能既能被3整除，又能被5整合的数字有哪些。"
   ]
  },
  {
   "cell_type": "code",
   "execution_count": 1,
   "metadata": {
    "collapsed": false
   },
   "outputs": [
    {
     "name": "stdout",
     "output_type": "stream",
     "text": [
      "15\n",
      "30\n",
      "45\n",
      "60\n",
      "75\n",
      "90\n"
     ]
    }
   ],
   "source": [
    "for i in range(1,101):\n",
    "    if (i%3==0) & (i%5==0):\n",
    "        print(i)"
   ]
  },
  {
   "cell_type": "markdown",
   "metadata": {},
   "source": [
    "输入一个字符串返回满足以下条件的字符串<br>\n",
    "如果字符串长度大等于3，添加 'ing' 到字符串的末尾<br>\n",
    "如果字符串是以 'ing' 结尾的，就在末尾添加 'ly'<br>\n",
    "如果字符串长度小于3，返回原字符串<br>"
   ]
  },
  {
   "cell_type": "code",
   "execution_count": 2,
   "metadata": {
    "collapsed": false
   },
   "outputs": [
    {
     "name": "stdout",
     "output_type": "stream",
     "text": [
      "input an English word：study\n",
      "studying\n"
     ]
    }
   ],
   "source": [
    "s=input('input an English word：')\n",
    "if s.endswith(\"ing\"):\n",
    "    s=s+'ly'\n",
    "    print(s)\n",
    "elif len(s)>=3:\n",
    "    s=s+'ing'\n",
    "    print(s)\n",
    "else:\n",
    "    print(s)"
   ]
  },
  {
   "cell_type": "markdown",
   "metadata": {},
   "source": [
    "判断回文<br>\n",
    "输入一个数字，如果是回文数字，返回True，否则 返回False<br>\n",
    "提示：回文：62426是回文数字<br>"
   ]
  },
  {
   "cell_type": "code",
   "execution_count": 3,
   "metadata": {
    "collapsed": false
   },
   "outputs": [
    {
     "name": "stdout",
     "output_type": "stream",
     "text": [
      "type a number:123321\n",
      "True\n"
     ]
    }
   ],
   "source": [
    "n=input('type a number:')\n",
    "if (int(len(n))%2==0) & (n[0:int(len(n)/2)]==n[-1:int(-len(n)/2-1):-1]):\n",
    "        print('True')\n",
    "elif (n[0:int((len(n)-1)/2)]==n[-1:int((-len(n)-1)/2):-1]):\n",
    "        print('True')\n",
    "else:    \n",
    "    print('False')"
   ]
  },
  {
   "cell_type": "markdown",
   "metadata": {},
   "source": [
    "输入一个字符串，返回满足以下条件字符串<br>\n",
    "找到字符串中的子串 'not' 和 'bad’<br>\n",
    "如果 'bad' 出现在 'not' 后面，就把 'not' ... 'bad' 之间包含的所有字符串替换成 'good'<br>"
   ]
  },
  {
   "cell_type": "code",
   "execution_count": 4,
   "metadata": {
    "collapsed": false
   },
   "outputs": [
    {
     "name": "stdout",
     "output_type": "stream",
     "text": [
      "input a string:notsobad\n",
      "notgoodbad\n"
     ]
    }
   ],
   "source": [
    "s=input('input a string:')\n",
    "if ('not' in s) & ('bad' in s):\n",
    "    if (s.index('not') < s.index('bad')):\n",
    "        sc=s.replace(s[(s.index('not')+3):(s.index('bad'))],'good')\n",
    "        print(sc)\n",
    "    else:\n",
    "        print('not isn\\'t before bad')\n",
    "else:\n",
    "    print('not and bad didn\\'t exist at the same time!')"
   ]
  },
  {
   "cell_type": "markdown",
   "metadata": {},
   "source": [
    "输入一个字符串，把字符串拆分成两个等分<br>\n",
    "如果字符串长度是偶数，前一半和后一半的长度是相同的<br>\n",
    "如果字符串长度是奇数，则多出的一个字符加到前一半，如：'abcde'，前一半是'abc'，后一半是'de'<br>"
   ]
  },
  {
   "cell_type": "code",
   "execution_count": 5,
   "metadata": {
    "collapsed": false,
    "scrolled": true
   },
   "outputs": [
    {
     "name": "stdout",
     "output_type": "stream",
     "text": [
      "input a tring:ABCEF\n",
      "ABC EF\n"
     ]
    }
   ],
   "source": [
    "s=input('input a tring:')\n",
    "if int(len(s))%2==0:\n",
    "    print(s[0:int(len(s)/2)],s[int(len(s)/2):])\n",
    "else:\n",
    "    print(s[0:int((len(s)+1)/2)],s[int((len(s)+1)/2):])"
   ]
  },
  {
   "cell_type": "markdown",
   "metadata": {},
   "source": [
    "输入一个字符串返回满足以下条件的字符串<br>\n",
    "找出与字符串的第一个字母相同的字母，把它们替换成 '*'，除了第一个字母本身以外<br>\n",
    "例如: 输入'babble'， 返回 'ba**le’<br>"
   ]
  },
  {
   "cell_type": "code",
   "execution_count": 6,
   "metadata": {
    "collapsed": false
   },
   "outputs": [
    {
     "name": "stdout",
     "output_type": "stream",
     "text": [
      "input a string:julyjujuju\n",
      "july*u*u*u\n"
     ]
    }
   ],
   "source": [
    "s=input('input a string:')\n",
    "for i in range(1,int(len(s))):\n",
    "    if s[i]==s[0]:\n",
    "        sr=s[1:int(len(s))].replace(s[i],'*')\n",
    "        s=s[0]+sr\n",
    "print(s)"
   ]
  },
  {
   "cell_type": "markdown",
   "metadata": {},
   "source": [
    "输入一个字符串,返回满足以下条件的字符串<br>\n",
    "由字符串的最前面两个字母和最后两个字母组成的字符串<br>\n",
    "例如： 'spring' 返回 'spng'， 'is' 返回 'is’<br>\n",
    "当输入的字符串长度小于2时，返回空字符串<br>"
   ]
  },
  {
   "cell_type": "code",
   "execution_count": 7,
   "metadata": {
    "collapsed": false
   },
   "outputs": [
    {
     "name": "stdout",
     "output_type": "stream",
     "text": [
      "input a string:julyedu\n",
      "judu\n"
     ]
    }
   ],
   "source": [
    "s=input('input a string:')\n",
    "if int(len(s))<2:\n",
    "    print(' ')\n",
    "elif int(len(s))>3:\n",
    "    sh=s[:2];st=s[-2:]\n",
    "    print(sh+st)\n",
    "else:\n",
    "    print(s)    "
   ]
  },
  {
   "cell_type": "markdown",
   "metadata": {},
   "source": [
    "落球计算<br>\n",
    "一球从100米高度自由落下，假设每次落地后反跳回原高度的一半；再落下，再弹起。请问第6次落地后会弹起多少米？<br>\n",
    "请分别使用for循环与while循环。并使用break与contiune流程控制关键字<br>"
   ]
  },
  {
   "cell_type": "code",
   "execution_count": 8,
   "metadata": {
    "collapsed": false
   },
   "outputs": [
    {
     "name": "stdout",
     "output_type": "stream",
     "text": [
      "height: 1.5625 times: 6\n"
     ]
    }
   ],
   "source": [
    "b=100;i=0\n",
    "while b>10e-3:\n",
    "    b/=2\n",
    "    i+=1\n",
    "    while i==6:\n",
    "        print('height:',b,'times:',i)\n",
    "        break"
   ]
  },
  {
   "cell_type": "markdown",
   "metadata": {},
   "source": [
    "创建一个python文件，接收两个参数（均为数字）并找出两个数字间所有的素数（即只能被1和自己整除的数）<br>\n",
    "\n",
    "运行这个文件，并检查结果<br>"
   ]
  },
  {
   "cell_type": "code",
   "execution_count": 9,
   "metadata": {
    "collapsed": false,
    "scrolled": true
   },
   "outputs": [
    {
     "name": "stdout",
     "output_type": "stream",
     "text": [
      "write first number:2\n",
      "write second number:100\n",
      "3\n",
      "5\n",
      "7\n",
      "11\n",
      "13\n",
      "17\n",
      "19\n",
      "23\n",
      "29\n",
      "31\n",
      "37\n",
      "41\n",
      "43\n",
      "47\n",
      "53\n",
      "59\n",
      "61\n",
      "67\n",
      "71\n",
      "73\n",
      "79\n",
      "83\n",
      "89\n",
      "97\n"
     ]
    }
   ],
   "source": [
    "fn=input('write first number:')\n",
    "sn=input('write second number:')\n",
    "if fn==sn:\n",
    "    print('two equal num has no num between them')\n",
    "elif fn<sn:\n",
    "    pass\n",
    "else:\n",
    "    tmp=fn;fn=sn;sn=tmp\n",
    "notprime=[]\n",
    "for i in range(int(sn)+1,int(fn)):\n",
    "    for j in range(2,i):\n",
    "        if i%j == 0:\n",
    "            notprime.append(i)\n",
    "for j in range(int(sn)+1,int(fn)):\n",
    "    if j not in notprime:\n",
    "        print(j)"
   ]
  },
  {
   "cell_type": "code",
   "execution_count": null,
   "metadata": {
    "collapsed": true
   },
   "outputs": [],
   "source": []
  }
 ],
 "metadata": {
  "anaconda-cloud": {},
  "kernelspec": {
   "display_name": "Python [default]",
   "language": "python",
   "name": "python3"
  },
  "language_info": {
   "codemirror_mode": {
    "name": "ipython",
    "version": 3
   },
   "file_extension": ".py",
   "mimetype": "text/x-python",
   "name": "python",
   "nbconvert_exporter": "python",
   "pygments_lexer": "ipython3",
   "version": "3.5.2"
  }
 },
 "nbformat": 4,
 "nbformat_minor": 2
}
