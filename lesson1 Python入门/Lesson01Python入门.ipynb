{
 "cells": [
  {
   "cell_type": "markdown",
   "metadata": {},
   "source": [
    "# Python基本入门升级版\n",
    "## (一)、Python入门\n",
    "\n",
    "### 七月在线 julyedu.com\n",
    "David "
   ]
  },
  {
   "cell_type": "markdown",
   "metadata": {},
   "source": [
    "#### Python运行的两种方式"
   ]
  },
  {
   "cell_type": "code",
   "execution_count": 43,
   "metadata": {},
   "outputs": [
    {
     "name": "stdout",
     "output_type": "stream",
     "text": [
      "0 times run\n",
      "1 times run\n",
      "5\n"
     ]
    },
    {
     "data": {
      "text/plain": [
       "str"
      ]
     },
     "execution_count": 43,
     "metadata": {},
     "output_type": "execute_result"
    }
   ],
   "source": [
    "#解释型\n",
    "%run d:/1.py 2\n",
    "    \n",
    "    \n",
    "# import sys\n",
    "# for i in range(int(sys.argv[1])):\n",
    "#     print(i,'times run')\n",
    "\n",
    "#交互型\n",
    "#cmd 与 notebook"
   ]
  },
  {
   "cell_type": "markdown",
   "metadata": {},
   "source": [
    "## 1. Python基础语法规则"
   ]
  },
  {
   "cell_type": "code",
   "execution_count": 7,
   "metadata": {},
   "outputs": [
    {
     "name": "stdout",
     "output_type": "stream",
     "text": [
      "单行注释\n",
      "多行注释\n",
      "七月在线，国内领先的人工智能教育平台，是国内最早最专业、规模最大的AI教育机构，有着超50万的AI人才社群，同时也是唯一一家拥有人工智能完整课程体系、及全球首家提供全年GPU云实验平台的AI教育机构。\n",
      "七月在线，国内领先的人\n",
      "工智能教育平台\n",
      "\n",
      "多行内容就可以\n",
      "使用三个单引号进行\n",
      "赋值，在大段文字的赋值时非常好用\n",
      "\n",
      "七月在线 http://www.julyedu.com\n",
      "人生苦短，我用 Python\n"
     ]
    }
   ],
   "source": [
    "#单选注释\n",
    "print('单行注释')\n",
    "print('多行注释')\n",
    "\n",
    "\n",
    "#\\ 代码分隔\n",
    "print('七月在线，国内领先的人工智能教育平台，是国内最早\\\n",
    "最专业、规模最大的AI教育机构，有着超50万的AI人才社群，同时也是唯一一家拥有人\\\n",
    "工智能完整课程体系、及全球首家提供全年GPU云实验平台的AI教育机构。')\n",
    "\n",
    "#\\n 文本分隔\n",
    "print('七月在线，国内领先的人\\n工智能教育平台')\n",
    "\n",
    "#''’多行文本赋值\n",
    "multilines='''\n",
    "多行内容就可以\n",
    "使用三个单引号进行\n",
    "赋值，在大段文字的赋值时非常好用\n",
    "多行内容就可以\n",
    "使用三个单引号进行\n",
    "赋值，在大段文字的赋值时非常好用\n",
    "多行内容就可以\n",
    "使用三个单引号进行\n",
    "赋值，在大段文字的赋值时非常好用\n",
    "多行内容就可以\n",
    "使用三个单引号进行\n",
    "赋值，在大段文字的赋值时非常好用\n",
    "'''\n",
    "print(multilines)\n",
    "\n",
    "#;多行语句写在一行\n",
    "company_name='七月在线';website_url='http://www.julyedu.com';print(company_name,website_url)\n",
    "\n",
    "\n",
    "#：缩进\n",
    "title='Python'\n",
    "\n",
    "if title=='Python':\n",
    "    print ('人生苦短，我用',title)\n",
    "else:\n",
    "    print('我用',title)\n",
    "\n",
    "#：分隔代码块\n",
    "def foo(instr):\n",
    "    print(instr)\n",
    "class c1():\n",
    "    pass\n",
    "\n",
    "# foo('julyedu.com')\n",
    "\n",
    "#空行\n",
    "def foo1():\n",
    "    pass\n",
    "\n",
    "def foo2():\n",
    "    pass\n",
    "\n",
    "# #模块\n",
    "import random\n",
    "# dir(random)"
   ]
  },
  {
   "cell_type": "markdown",
   "metadata": {},
   "source": [
    "## 2. 标识符命名"
   ]
  },
  {
   "cell_type": "code",
   "execution_count": 8,
   "metadata": {},
   "outputs": [
    {
     "name": "stdout",
     "output_type": "stream",
     "text": [
      "5\n"
     ]
    }
   ],
   "source": [
    "#错误的标识符\n",
    "1i='julyedu.com'\n",
    "$title='python'\n",
    "\n",
    "#驼峰命名法\n",
    "companyName='julyedu'\n",
    "companyWebsiteUrl='http://www.julyedu.com'"
   ]
  },
  {
   "cell_type": "markdown",
   "metadata": {},
   "source": [
    "## 3. Python中的标准操作符"
   ]
  },
  {
   "cell_type": "code",
   "execution_count": 18,
   "metadata": {},
   "outputs": [
    {
     "name": "stdout",
     "output_type": "stream",
     "text": [
      ">>>>>>算术运算符\n",
      "a+b= 150\n",
      "a-b= -50\n",
      "a×b= 5000\n",
      "a÷b= 0.5\n",
      "a%b= 50\n",
      "a//b= 0\n",
      "a**2= 2500\n",
      "a**0.5= 7.0710678118654755\n",
      ">>>>>>比较运算符\n",
      "a==b: False\n",
      "a!=b: True\n",
      "a>b: False\n",
      "a<b: True\n",
      ">>>>>>逻辑运算符\n",
      "bbbbbb\n",
      ">>>>>>成员运算符\n",
      "True\n",
      "False\n",
      ">>>>>>身份运算符\n",
      "websiteUrl is websiteUrl2: True\n"
     ]
    }
   ],
   "source": [
    "#算术运算符\n",
    "print('>>>>>>算术运算符')\n",
    "a=50;b=100\n",
    "\n",
    "print('a+b=',a+b)\n",
    "print('a-b=',a-b)\n",
    "print('a×b=',a*b)\n",
    "print('a÷b=',a/b)\n",
    "print('a%b=',a%b)\n",
    "print('a//b=',a//b)\n",
    "print('a**2=',a**2)\n",
    "print('a**0.5=',a**0.5)\n",
    "\n",
    "\n",
    "# a+=17\n",
    "# print('a=a+17',a)\n",
    "\n",
    "print('>>>>>>比较运算符')\n",
    "print('a==b:',a==b)\n",
    "print('a!=b:',a!=b)\n",
    "print('a>b:',a>b)\n",
    "print('a<b:',a<b)\n",
    "\n",
    "\n",
    "print('>>>>>>逻辑运算符')\n",
    "if a>50 and b>60:\n",
    "    print('a and b both greater than 50')\n",
    "if a>=50 or b>200:\n",
    "    print('bbbbbb')\n",
    "    \n",
    "print('>>>>>>成员运算符')\n",
    "websiteUrl='http://www.julyedu.com'\n",
    "print('com' in websiteUrl)\n",
    "print('com' not in websiteUrl)\n",
    "\n",
    "print('>>>>>>身份运算符')\n",
    "websiteUrl='julyedu'\n",
    "websiteUrl2='julyedu'\n",
    "print('websiteUrl is websiteUrl2:',websiteUrl is websiteUrl2)"
   ]
  },
  {
   "cell_type": "markdown",
   "metadata": {},
   "source": [
    "### 高级赋值"
   ]
  },
  {
   "cell_type": "code",
   "execution_count": 20,
   "metadata": {},
   "outputs": [
    {
     "name": "stdout",
     "output_type": "stream",
     "text": [
      "99 100 101\n",
      "100 101 99\n"
     ]
    }
   ],
   "source": [
    "#简单赋值\n",
    "a=100\n",
    "\n",
    "# 多重赋值，=\n",
    "a=b=c=100\n",
    "\n",
    "# 多元赋值\n",
    "a,b,c=99,100,101\n",
    "print(a,b,c)\n",
    "\n",
    "# 变量交换赋值\n",
    "a,b,c=b,c,a\n",
    "print(a,b,c)"
   ]
  },
  {
   "cell_type": "markdown",
   "metadata": {},
   "source": [
    "### BIFs 自带电池"
   ]
  },
  {
   "cell_type": "code",
   "execution_count": 2,
   "metadata": {
    "collapsed": true
   },
   "outputs": [],
   "source": [
    "# 查看： dir(__builtins__)\n",
    "# IO：print(), open(), input()\n",
    "# 列表与帮助：dir()与help()\n",
    "# 类型与身份：type()，id()，memoryview（）,isinstance(), issubclass(),\n",
    "# 数学运算类：sum,pow,round,min,max,hash等\n",
    "# 类型转换：int,bin,hex,oct,str,float,list,bytes等\n",
    "# 序列： len(), range(), zip(), map(),reduce(),filter(), reversed() , sorted(), enumerate()"
   ]
  },
  {
   "cell_type": "markdown",
   "metadata": {},
   "source": [
    "## 4. 循环与判断"
   ]
  },
  {
   "cell_type": "code",
   "execution_count": 27,
   "metadata": {},
   "outputs": [
    {
     "name": "stdout",
     "output_type": "stream",
     "text": [
      "For loop,  0  times run\n",
      "For loop,  1  times run\n",
      "For loop,  2  times run\n",
      "For loop,  3  times run\n",
      "For loop,  4  times run\n",
      "While loop  0 times run\n",
      "While loop  1 times run\n",
      "While loop  2 times run\n",
      "While loop  3 times run\n",
      "While loop  4 times run\n",
      "While loop  5 times run\n",
      "While loop  6 times run\n",
      "While loop  7 times run\n",
      "While loop  8 times run\n",
      "While loop  9 times run\n",
      "While loop  10 times run\n",
      "While loop  11 times run\n",
      "While loop  12 times run\n",
      "While loop  13 times run\n",
      "While loop  14 times run\n",
      "For loop,  0  times run\n",
      "For loop,  1  times run\n",
      "For loop,  3  times run\n",
      "For loop,  4  times run\n",
      "0\n",
      "break 1\n",
      "1\n",
      "break 2\n",
      "2\n",
      "break 3\n",
      "3\n",
      "break 4\n",
      "4\n",
      "break 5\n",
      "5\n",
      "break 6\n",
      "6\n",
      "break 7\n"
     ]
    }
   ],
   "source": [
    "#for 迭代循环\n",
    "\n",
    "#左闭右开[3,7)\n",
    "\n",
    "for i in range(5):\n",
    "    print('For loop, ',i,' times run')\n",
    "\n",
    "#whilet条件循环\n",
    "i=0\n",
    "#当\n",
    "while(i<15):#终止条件\n",
    "    print('While loop ',i,'times run')\n",
    "    i=i+1\n",
    "    \n",
    "# #While死循环\n",
    "# # i=0\n",
    "# # While True:\n",
    "# #     print(i)\n",
    "# #     i+=1\n",
    "\n",
    "#continue跳过循环\n",
    "\n",
    "for i in range(5):\n",
    "    if i==2: continue\n",
    "    print('For loop, ',i,' times run')\n",
    "    \n",
    "    \n",
    "#break终止循环\n",
    "i=0\n",
    "while True:\n",
    "    print(i)\n",
    "    i+=1\n",
    "    print('break',i)\n",
    "    if i==7:break\n",
    "        \n",
    "#pass填行\n",
    "for i in range(5):\n",
    "    if i==2: \n",
    "        pass\n",
    "    ######################\n",
    "    else:\n",
    "        print('For loop, ',i,' times run')"
   ]
  },
  {
   "cell_type": "markdown",
   "metadata": {},
   "source": [
    "### 判断"
   ]
  },
  {
   "cell_type": "code",
   "execution_count": 30,
   "metadata": {},
   "outputs": [
    {
     "name": "stdout",
     "output_type": "stream",
     "text": [
      "you are a adult!\n",
      "you are a adult!\n",
      "['c', 'h', 'i', 'n', 'a']\n",
      "c\n",
      ">>>h\n",
      "iiii\n",
      "n\n",
      "-aaa-\n",
      ".com域名\n"
     ]
    }
   ],
   "source": [
    "age=32\n",
    "\n",
    "#单if\n",
    "if age>18:\n",
    "    print('you are a adult!')\n",
    "\n",
    "#if lese\n",
    "if age>18:\n",
    "    print('you are a adult!')\n",
    "else:\n",
    "    print('you are a teenage!')\n",
    "    \n",
    "#if elif\n",
    "l1=list('china')\n",
    "print(l1)\n",
    "for item in l1:\n",
    "    if item=='a': print('-aaa-')\n",
    "    elif item=='i': \n",
    "        print('iiii')\n",
    "    elif item=='h': \n",
    "        print('>>>h')\n",
    "    else:\n",
    "        print(item)\n",
    "        \n",
    "\n",
    "#三元表达符\n",
    "#语法：\n",
    "#为真时的结果 if 判定条件 else 为假时的结果  \n",
    "\n",
    "websiteUrl='julyedu.com'\n",
    "print('.com域名') if '.com' in websiteUrl  else print('其它类型域名')"
   ]
  },
  {
   "cell_type": "markdown",
   "metadata": {},
   "source": [
    "## 5.Python数值类型"
   ]
  },
  {
   "cell_type": "code",
   "execution_count": 33,
   "metadata": {},
   "outputs": [
    {
     "name": "stdout",
     "output_type": "stream",
     "text": [
      "True\n",
      "nan\n",
      "5.0 22.0\n"
     ]
    },
    {
     "data": {
      "text/plain": [
       "-5.6"
      ]
     },
     "execution_count": 33,
     "metadata": {},
     "output_type": "execute_result"
    }
   ],
   "source": [
    "#整数类型\n",
    "a=100;b=200\n",
    "\n",
    "#进制表示与转化\n",
    "a=0b0101 #二进制,bin()\n",
    "b=0o0101#八进制 ,oct()\n",
    "c=0x0101#十六进制,hex()\n",
    "\n",
    "#浮点型\n",
    "a=5.117\n",
    "#科学计数法\n",
    "c=5e3\n",
    "d=7e-4\n",
    "\n",
    "#数字正负无穷\n",
    "#以用如关系下方式表示正负无穷：\n",
    "float(\"inf\")#正无穷\n",
    "float(\"-inf\")#负无穷\n",
    "\n",
    "1 + float('inf')\n",
    "\n",
    "2 * float('inf')\n",
    "\n",
    "#数字正负无穷不等式：\n",
    "# 当涉及 > 和 < 运算时，\n",
    "# 所有数都比-inf大\n",
    "# 所有数都比+inf小\n",
    "#数字正负无穷等式：\n",
    "# +inf 和 +inf相等  -inf 和 -inf相等\n",
    "# inf不是nan，inf-inf或者-inf+inf是nan。\n",
    "# inf是∞，一个比其他所有值都大的值。\n",
    "# inf是-∞，一个比其他所有值都小的值。\n",
    "\n",
    "print(float('inf')==float('inf'))\n",
    "print(float('inf')+float('-inf'))\n",
    "\n",
    "#复数\n",
    "a=5+22j\n",
    "type(a)\n",
    "print(a.real,a.imag)\n",
    "\n",
    "\n",
    "#操作：\n",
    "#数值类型转化\n",
    "a=-5.555\n",
    "int(a)\n",
    "float(a)\n",
    "complex(a)\n",
    "\n",
    "#绝对值与四舍五处\n",
    "abs(a)\n",
    "round(a,1)"
   ]
  },
  {
   "cell_type": "markdown",
   "metadata": {},
   "source": [
    "## 6. Python字符串类型"
   ]
  },
  {
   "cell_type": "code",
   "execution_count": 35,
   "metadata": {},
   "outputs": [
    {
     "name": "stdout",
     "output_type": "stream",
     "text": [
      "http://www.julyedu.com\n",
      "Today's news is not a good news\n",
      "len: 22\n",
      "h\n",
      "t\n",
      "t\n",
      "p\n",
      ":\n",
      "/\n",
      "/\n",
      "w\n",
      "w\n",
      "w\n",
      ".\n",
      "j\n",
      "u\n",
      "l\n",
      "y\n",
      "e\n",
      "d\n",
      "u\n",
      ".\n",
      "c\n",
      "o\n",
      "m\n",
      "h\n",
      "www.julyedu.com\n",
      " http://www.Julyedu.Com  中国领先的人工智能教育平台 \n",
      " http://www.Julyedu.Com  中国领先的AI教育平台 \n"
     ]
    },
    {
     "data": {
      "text/plain": [
       "b'abc'"
      ]
     },
     "execution_count": 35,
     "metadata": {},
     "output_type": "execute_result"
    }
   ],
   "source": [
    "#初始化及转义\n",
    "\n",
    "#单引与双引在表示字符串时没有区别。但字符串开头结尾必须使用同一种引号。否则报错\n",
    "url='http://www.julyedu.com'\n",
    "url=\"http://www.julyedu.com\"\n",
    "print(url)\n",
    "\n",
    "#如果是字符串包含单引或双引，则需要对其进行转义\n",
    "sentence='Today\\'s news is not a good news'\n",
    "print(sentence)\n",
    "\n",
    "\n",
    "#字符串属性\n",
    "print('len:',len(url))\n",
    "\n",
    "#访问之循环\n",
    "for item in url:\n",
    "    print(item)\n",
    "    \n",
    "#访问之索引Indexing\n",
    "# 0代表第一个元素\n",
    "# -1代表字符串最后一个元素\n",
    "print(url[0])\n",
    "\n",
    "#访问之切片\n",
    "# [::]三个参数分别是开始索引位置，结束索引位置，步长。\n",
    "print(url[7:22])\n",
    "\n",
    "\n",
    "#格式化访问\n",
    "url='http://www.{}.com'\n",
    "companyName='七月在线'\n",
    "url.format(companyName)\n",
    "\n",
    "#拼接\n",
    "url=' http://www.{}.Com '\n",
    "companyName='Julyedu'\n",
    "url.format(companyName)+' 中国领先的AI教育平台'\n",
    "url.format(companyName)*3\n",
    "\n",
    "#查找与替换\n",
    "url=url.format(companyName)+' 中国领先的AI教育平台 '\n",
    "url.find('http')\n",
    "url.find('平台')\n",
    "print(url.replace('AI','人工智能'))#注意，repalce并不改变字符串原来的内容。\n",
    "print(url)\n",
    "#统计\n",
    "url.count('t')\n",
    "url.count('平台')\n",
    "\n",
    "#获取索引\n",
    "url.index('台')\n",
    "\n",
    "#大小写\n",
    "url.title()#首字母大写\n",
    "url.upper()#全部字母大写\n",
    "url.lower()#全部字母小写\n",
    "\n",
    "#去空格\n",
    "url.lstrip()\n",
    "url.rstrip()\n",
    "url.strip()\n",
    "\n",
    "s='abc'\n",
    "s.isalpha()\n",
    "s.isdigit()\n",
    "s.isidentifier()\n",
    "\n",
    "#编码与解码\n",
    "s1=s.encode()\n",
    "type(s1)\n",
    "s1\n",
    "# s2=s1.decode()\n",
    "# type(s2)"
   ]
  },
  {
   "cell_type": "code",
   "execution_count": 36,
   "metadata": {},
   "outputs": [
    {
     "name": "stdout",
     "output_type": "stream",
     "text": [
      "hello python\n"
     ]
    }
   ],
   "source": [
    "%run d:/1.py"
   ]
  },
  {
   "cell_type": "markdown",
   "metadata": {},
   "source": [
    "## 练习题\n",
    "- 求从1到100的数字中所有能被3整除的数字的有哪些\n"
   ]
  },
  {
   "cell_type": "code",
   "execution_count": 151,
   "metadata": {},
   "outputs": [
    {
     "name": "stdout",
     "output_type": "stream",
     "text": [
      "15\n",
      "30\n",
      "45\n",
      "60\n",
      "75\n",
      "90\n"
     ]
    }
   ],
   "source": [
    "for i in range(1,101):\n",
    "    if i%3==0 and i%5==0:\n",
    "        print(i)"
   ]
  },
  {
   "cell_type": "markdown",
   "metadata": {},
   "source": [
    "输入一个字符串返回满足以下条件的字符串\n",
    "- 如果字符串长度大等于3，添加 'ing' 到字符串的末尾\n",
    "- 如果字符串是以 'ing' 结尾的，就在末尾添加 'ly'\n",
    "- 如果字符串长度小于3，返回原字符串"
   ]
  },
  {
   "cell_type": "code",
   "execution_count": 158,
   "metadata": {},
   "outputs": [
    {
     "name": "stdout",
     "output_type": "stream",
     "text": [
      "5f\n",
      "5f\n"
     ]
    }
   ],
   "source": [
    "s=input()\n",
    "\n",
    "if len(s)>=3:\n",
    "    if s.endswith('ing'):\n",
    "        s+='ly'\n",
    "    else:\n",
    "        s+='ing'\n",
    "else:\n",
    "    pass\n",
    "\n",
    "print(s)\n"
   ]
  },
  {
   "cell_type": "markdown",
   "metadata": {},
   "source": [
    "判断是否为回文\n",
    "- 提示：回文：62426是回文数字"
   ]
  },
  {
   "cell_type": "code",
   "execution_count": 56,
   "metadata": {},
   "outputs": [
    {
     "name": "stdout",
     "output_type": "stream",
     "text": [
      "621126\n",
      "True\n"
     ]
    }
   ],
   "source": [
    "x=input()\n",
    "if x==x[::-1]:\n",
    "    print('True')\n",
    "else:\n",
    "    print('False')"
   ]
  },
  {
   "cell_type": "markdown",
   "metadata": {},
   "source": [
    "输入一个字符串，返回满足以下条件字符串\n",
    "- 找到字符串中的子串 'not' 和 'bad’\n",
    "- 如果 'bad' 出现在 'not' 后面，就把 'not' ... 'bad' 之间包含的所有字符串替换成 'good'"
   ]
  },
  {
   "cell_type": "code",
   "execution_count": 173,
   "metadata": {},
   "outputs": [
    {
     "name": "stdout",
     "output_type": "stream",
     "text": [
      "Study is  good bad way. \n"
     ]
    }
   ],
   "source": [
    "a='Study is not only to learn, actually i think this is a bad way. '\n",
    "if a.find('bad')>a.find('not'):\n",
    "    b=a[0:a.find('not')]+' good '+ a[a.find('bad'):]\n",
    "print(b)"
   ]
  },
  {
   "cell_type": "markdown",
   "metadata": {},
   "source": [
    "输入一个字符串，把字符串拆分成两个等分\n",
    "- 如果字符串长度是偶数，前一半和后一半的长度是相同的\n",
    "- 如果字符串长度是奇数，则多出的一个字符加到前一半，如：'abcde'，前一半是'abc'，后一半是'de'\n"
   ]
  },
  {
   "cell_type": "code",
   "execution_count": 184,
   "metadata": {},
   "outputs": [
    {
     "name": "stdout",
     "output_type": "stream",
     "text": [
      "55572\n",
      "555 -- 72\n"
     ]
    }
   ],
   "source": [
    "s=input()\n",
    "\n",
    "splitpoint=len(s)//2\n",
    "if len(s)%2==0:\n",
    "    s1=s[0:splitpoint]\n",
    "    s2=s[splitpoint:]\n",
    "else:\n",
    "    s1=s[0:splitpoint+1]\n",
    "    s2=s[splitpoint+1:]\n",
    "print(s1,'--',s2)"
   ]
  },
  {
   "cell_type": "markdown",
   "metadata": {},
   "source": [
    "输入一个字符串返回满足以下条件的字符串\n",
    "- 找出与字符串的第一个字母相同的字母，把它们替换成 '*'，除了第一个字母本身以外\n",
    "- 例如: 输入'babble'， 返回 'ba**le'"
   ]
  },
  {
   "cell_type": "code",
   "execution_count": 194,
   "metadata": {},
   "outputs": [
    {
     "name": "stdout",
     "output_type": "stream",
     "text": [
      "cattcat\n",
      "catt*at\n"
     ]
    }
   ],
   "source": [
    "s=input()\n",
    "firstletter=s[0]\n",
    "s=s.replace(firstletter,'*')\n",
    "s=firstletter+s[1:]\n",
    "print(s)"
   ]
  },
  {
   "cell_type": "markdown",
   "metadata": {},
   "source": [
    "输入一个字符串 返回满足以下条件的字符串\n",
    "- 由字符串的最前面两个字母和最后两个字母组成的字符串。\n",
    "- 例如： 'spring' 返回 'spng'， 'is' 返回 'is’\n",
    "- 当输入的字符串长度小于2时，返回空字符串"
   ]
  },
  {
   "cell_type": "code",
   "execution_count": 199,
   "metadata": {},
   "outputs": [
    {
     "name": "stdout",
     "output_type": "stream",
     "text": [
      "to\n",
      "\n"
     ]
    }
   ],
   "source": [
    "s=input()\n",
    "\n",
    "if len(s)>2:\n",
    "    s1=s[0:2]+s[-2:]\n",
    "else:\n",
    "    s1=''\n",
    "print(s1)"
   ]
  },
  {
   "cell_type": "markdown",
   "metadata": {},
   "source": [
    "输入字符串 a 和 b,返回添加以下条件的字符串\n",
    "- 交换两个字符串的最前面的两个字母\n",
    "- 使用空格把两个字符串分隔后合并成一个字符串\n",
    "- 字符串 a 和 b 的长度都大等于2\n"
   ]
  },
  {
   "cell_type": "code",
   "execution_count": null,
   "metadata": {
    "collapsed": true
   },
   "outputs": [],
   "source": [
    "a=input()\n",
    "b=input()\n",
    "\n",
    "if len(a)>2 and len(b)>2:\n",
    "    a,b=b[0:2]+a[2:],a[0:2]+b[2:]\n",
    "    print(a+' '+b)\n",
    "else:\n",
    "    print('the input string is too short')"
   ]
  },
  {
   "cell_type": "markdown",
   "metadata": {},
   "source": [
    "落球计算\n",
    "- 一球从100米高度自由落下，假设每次落地后反跳回原高度的一半；再落下，再弹起。请问第6次落地后会弹起多少米？\n",
    "- 使用for与while循环完成"
   ]
  },
  {
   "cell_type": "code",
   "execution_count": 12,
   "metadata": {},
   "outputs": [
    {
     "name": "stdout",
     "output_type": "stream",
     "text": [
      "while loop: 1.5625\n",
      "for loop: 1.5625\n"
     ]
    }
   ],
   "source": [
    "height=100\n",
    "total=0\n",
    "i=1\n",
    "while True:\n",
    "    height*=0.5\n",
    "    i+=1\n",
    "    if i>6:break\n",
    "print('while loop:',height)\n",
    "\n",
    "height=100\n",
    "i=1\n",
    "for i in range(1,7):\n",
    "    height*=0.5\n",
    "    if i<6:\n",
    "        continue\n",
    "    else:\n",
    "        print('for loop:',height)"
   ]
  },
  {
   "cell_type": "markdown",
   "metadata": {},
   "source": [
    "### 作业\n",
    "- 求两个数字之间的素数\n",
    "- 素数：只能被1及自己整除的数，如3，7，13，23等"
   ]
  },
  {
   "cell_type": "code",
   "execution_count": 57,
   "metadata": {},
   "outputs": [
    {
     "name": "stdout",
     "output_type": "stream",
     "text": [
      "6 非素数\n",
      "7 素数\n",
      "8 非素数\n",
      "9 非素数\n",
      "10 非素数\n",
      "11 素数\n",
      "12 非素数\n",
      "13 素数\n",
      "14 非素数\n",
      "15 非素数\n",
      "16 非素数\n",
      "17 素数\n",
      "18 非素数\n",
      "19 素数\n",
      "20 非素数\n",
      "21 非素数\n",
      "22 非素数\n",
      "23 素数\n",
      "24 非素数\n",
      "25 非素数\n",
      "26 非素数\n",
      "27 非素数\n",
      "28 非素数\n",
      "29 素数\n",
      "30 非素数\n",
      "31 素数\n",
      "32 非素数\n",
      "33 非素数\n"
     ]
    }
   ],
   "source": [
    "for i in range(6,33+1):\n",
    "    for j in range(2,i+1):\n",
    "        if i%j==0 and j<i:\n",
    "            print(i,'非素数')\n",
    "            break\n",
    "        elif j==i:\n",
    "            print(i,'素数')"
   ]
  }
 ],
 "metadata": {
  "kernelspec": {
   "display_name": "Python 3",
   "language": "python",
   "name": "python3"
  },
  "language_info": {
   "codemirror_mode": {
    "name": "ipython",
    "version": 3
   },
   "file_extension": ".py",
   "mimetype": "text/x-python",
   "name": "python",
   "nbconvert_exporter": "python",
   "pygments_lexer": "ipython3",
   "version": "3.6.1"
  }
 },
 "nbformat": 4,
 "nbformat_minor": 2
}
